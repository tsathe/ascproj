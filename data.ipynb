{
 "cells": [
  {
   "cell_type": "code",
   "execution_count": 19,
   "metadata": {},
   "outputs": [],
   "source": [
    "import pandas as pd\n",
    "import plotly.express as px\n",
    "from fuzzywuzzy import process, fuzz\n",
    "import numpy as np\n",
    "from collections import Counter\n",
    "import re \n",
    "import collections"
   ]
  },
  {
   "attachments": {},
   "cell_type": "markdown",
   "metadata": {},
   "source": [
    "### Merging Files into One Dataframe\n",
    "\n",
    "Our dataset contains one CSV file per year so we read each file in as a dataframe and then concatenate the dataframe. The final dataset contains 10,529 entries spanning 2016 to 2023."
   ]
  },
  {
   "cell_type": "code",
   "execution_count": 20,
   "metadata": {},
   "outputs": [
    {
     "name": "stdout",
     "output_type": "stream",
     "text": [
      "10529\n"
     ]
    }
   ],
   "source": [
    "df_2016 = pd.read_csv('2016Export.csv', encoding_errors='ignore')\n",
    "df_2016['year'] = 2016\n",
    "\n",
    "df_2017 = pd.read_csv('2017Export.csv', encoding_errors='ignore')\n",
    "df_2017['year'] = 2017\n",
    "\n",
    "df_2018 = pd.read_csv('2018Export.csv', encoding_errors='ignore')\n",
    "df_2018['year'] = 2018\n",
    "\n",
    "df_2019 = pd.read_csv('2019Export.csv', encoding_errors='ignore')\n",
    "df_2019['year'] = 2019\n",
    "\n",
    "df_2020 = pd.read_csv('2020Export.csv', encoding_errors='ignore')\n",
    "df_2020['year'] = 2020\n",
    "\n",
    "df_2021 = pd.read_csv('2021Export.csv', encoding_errors='ignore')\n",
    "df_2021['year'] = 2021\n",
    "\n",
    "df_2022 = pd.read_csv('2022Export.csv', encoding_errors='ignore')\n",
    "df_2022['year'] = 2022\n",
    "\n",
    "df_2023 = pd.read_csv('2023Export.csv', encoding_errors='ignore')\n",
    "df_2023['year'] = 2023\n",
    "\n",
    "df = pd.concat([df_2016, df_2017, df_2018, df_2019, df_2020, df_2021, df_2022, df_2023], axis=0)\n",
    "\n",
    "\n",
    "print(len(df))"
   ]
  },
  {
   "attachments": {},
   "cell_type": "markdown",
   "metadata": {},
   "source": [
    "### Removing Entries with Incomplete Data\n",
    "\n",
    "Next, we remove any entries that are missing an author block as this will prevent subsequent data cleaning. It looks like only one such entry is affected as the new total is 10,528 entries."
   ]
  },
  {
   "cell_type": "code",
   "execution_count": 21,
   "metadata": {},
   "outputs": [
    {
     "name": "stdout",
     "output_type": "stream",
     "text": [
      "10528\n"
     ]
    }
   ],
   "source": [
    "df.dropna(subset=['author_block'], inplace=True)\n",
    "print(len(df))"
   ]
  },
  {
   "attachments": {},
   "cell_type": "markdown",
   "metadata": {},
   "source": [
    "### Filtering Authors\n",
    "\n",
    "We do data cleaning to separate the author portion and institution portion of the author block. We obtain the first and last authors in author block. We also remove middle initials so that each author is in the format F. Lastname (as opposed to F.M. Lastname). This is to make sure that authors are grouped properly even if their middle initial was used variably in the abstract. However, we do lose resolution if two authors with the same first initial and last name are merged (however this appears to be rare). We unfortunately do not have full first and last name information in this data."
   ]
  },
  {
   "cell_type": "code",
   "execution_count": 22,
   "metadata": {},
   "outputs": [
    {
     "name": "stderr",
     "output_type": "stream",
     "text": [
      "/var/folders/tc/rrbf67xd4h98qrpph8v1h9c00000gn/T/ipykernel_26514/3902522543.py:1: FutureWarning:\n",
      "\n",
      "The default value of regex will change from True to False in a future version.\n",
      "\n",
      "/var/folders/tc/rrbf67xd4h98qrpph8v1h9c00000gn/T/ipykernel_26514/3902522543.py:5: FutureWarning:\n",
      "\n",
      "The default value of regex will change from True to False in a future version.\n",
      "\n",
      "/var/folders/tc/rrbf67xd4h98qrpph8v1h9c00000gn/T/ipykernel_26514/3902522543.py:12: FutureWarning:\n",
      "\n",
      "The default value of regex will change from True to False in a future version.\n",
      "\n"
     ]
    }
   ],
   "source": [
    "df['author_block'] = df['author_block'].str.replace('(&nbsp;)', ' ')\n",
    "df_author = df['author_block'].str.split('(<sup>,?[\\d*]+(,?\\.? ?[\\d*]?)*<\\/sup>)[\\s\\r\\n]*[;]*[ ]*[\\t]*(<sup>,?[\\d*]*(,?\\.? ?[\\d*])*<\\/sup>)', \n",
    "                                     expand=True)\n",
    "\n",
    "df_author['authors'] = df_author[0].str.replace('(<sup>,?[0-9]+(,[0-9]+)*,?</sup>)', '')\n",
    "\n",
    "df_author['author_list'] = df_author.apply(lambda x: x['authors'].split(','), axis=1)\n",
    "\n",
    "\n",
    "df_author['first_author'] = df_author.apply(lambda x: x['author_list'][0], axis=1)\n",
    "df_author['senior_author'] = df_author.apply(lambda x: x['author_list'][-1], axis=1)\n",
    "df_author['senior_author2'] = df_author['senior_author'].str.replace('(. \\w. )', '. ')\n",
    "\n"
   ]
  },
  {
   "attachments": {},
   "cell_type": "markdown",
   "metadata": {},
   "source": [
    "### Filtering Institutions\n",
    "\n",
    "For the institution list, we make the assumption that the first institution listed in the block is the main institution that contributed the work. In the string of the first assumption, we look for the words \"university\", \"hospital\", \"institute\", or \"medical center\" or if none of those words exist, the first expression separated by a comma. "
   ]
  },
  {
   "cell_type": "code",
   "execution_count": 23,
   "metadata": {},
   "outputs": [
    {
     "name": "stderr",
     "output_type": "stream",
     "text": [
      "/var/folders/tc/rrbf67xd4h98qrpph8v1h9c00000gn/T/ipykernel_26514/2722030602.py:1: FutureWarning:\n",
      "\n",
      "The default value of regex will change from True to False in a future version.\n",
      "\n"
     ]
    },
    {
     "data": {
      "text/plain": [
       "10528"
      ]
     },
     "execution_count": 23,
     "metadata": {},
     "output_type": "execute_result"
    }
   ],
   "source": [
    "\n",
    "df_author['institutions'] = df_author[5].str.replace('(<sup>,?[0-9]+(,[0-9]+)*,?</sup>)', '|', n=1)\n",
    "\n",
    "df_author['institution_list'] = df_author.apply(lambda x: x['institutions'].split('|'), axis=1)\n",
    "df_author['first_institution'] = df_author.apply(lambda x: x['institution_list'][0].split(',')[:-3], axis=1)\n",
    "\n",
    "\n",
    "KEYWORDS = ['university', 'hospital', 'institute', 'medical center']\n",
    "\n",
    "\n",
    "def smart_institution(list):\n",
    "    for item in list:\n",
    "        for word in KEYWORDS:\n",
    "            if word in item.lower():\n",
    "                return item\n",
    "    return list[0]\n",
    "            \n",
    "\n",
    "df_author['smart_institution'] = df_author.apply(lambda x: smart_institution(x['institution_list']), axis=1)\n",
    "df_author['smart_institution2'] = df_author['smart_institution'].str.split(',', expand=True)[0]\n",
    "df_author['smart_institution2'] = df_author['smart_institution2'].str.title()\n",
    "\n",
    "# df_author = df_author[['first_author', 'senior_author', 'senior_author2', 'smart_institution2']]\n",
    "\n",
    "# df_author\n",
    "\n",
    "len(df_author)"
   ]
  },
  {
   "attachments": {},
   "cell_type": "markdown",
   "metadata": {},
   "source": [
    "### Combine Dataframes\n",
    "\n",
    "Now, we combine the new columns into the existing dataframe."
   ]
  },
  {
   "cell_type": "code",
   "execution_count": 24,
   "metadata": {},
   "outputs": [
    {
     "data": {
      "text/html": [
       "<div>\n",
       "<style scoped>\n",
       "    .dataframe tbody tr th:only-of-type {\n",
       "        vertical-align: middle;\n",
       "    }\n",
       "\n",
       "    .dataframe tbody tr th {\n",
       "        vertical-align: top;\n",
       "    }\n",
       "\n",
       "    .dataframe thead th {\n",
       "        text-align: right;\n",
       "    }\n",
       "</style>\n",
       "<table border=\"1\" class=\"dataframe\">\n",
       "  <thead>\n",
       "    <tr style=\"text-align: right;\">\n",
       "      <th></th>\n",
       "      <th>control_number</th>\n",
       "      <th>session_number</th>\n",
       "      <th>session_type</th>\n",
       "      <th>abstract_title</th>\n",
       "      <th>author_block</th>\n",
       "      <th>abstract_body</th>\n",
       "      <th>abstract_type</th>\n",
       "      <th>abstract_scientific_area</th>\n",
       "      <th>abstract_clinical_area</th>\n",
       "      <th>year</th>\n",
       "      <th>...</th>\n",
       "      <th>authors</th>\n",
       "      <th>author_list</th>\n",
       "      <th>first_author</th>\n",
       "      <th>senior_author</th>\n",
       "      <th>senior_author2</th>\n",
       "      <th>institutions</th>\n",
       "      <th>institution_list</th>\n",
       "      <th>first_institution</th>\n",
       "      <th>smart_institution</th>\n",
       "      <th>smart_institution2</th>\n",
       "    </tr>\n",
       "  </thead>\n",
       "  <tbody>\n",
       "    <tr>\n",
       "      <th>0</th>\n",
       "      <td>ASC20161024</td>\n",
       "      <td>1.01</td>\n",
       "      <td>QuickShot</td>\n",
       "      <td>Mimetic sHDL Nanoparticles: a Novel Drug-Deliv...</td>\n",
       "      <td>P. T. White&lt;sup&gt;1&lt;/sup&gt;, C. Subramanian&lt;sup&gt;1&lt;...</td>\n",
       "      <td>&lt;strong&gt;Introduction&lt;/strong&gt;:  Triple negativ...</td>\n",
       "      <td>Basic Science</td>\n",
       "      <td>Experimental Therapeutics/Other</td>\n",
       "      <td>Cross Disciplinary</td>\n",
       "      <td>2016</td>\n",
       "      <td>...</td>\n",
       "      <td>P. T. White, C. Subramanian, R. Kuai, J. Moon,...</td>\n",
       "      <td>[P. T. White,  C. Subramanian,  R. Kuai,  J. M...</td>\n",
       "      <td>P. T. White</td>\n",
       "      <td>M. S. Cohen</td>\n",
       "      <td>M. Cohen</td>\n",
       "      <td>University Of Michigan,Department Of Biomedica...</td>\n",
       "      <td>[University Of Michigan,Department Of Biomedic...</td>\n",
       "      <td>[University Of Michigan, Department Of Biomedi...</td>\n",
       "      <td>University Of Michigan,Department Of Biomedica...</td>\n",
       "      <td>University Of Michigan</td>\n",
       "    </tr>\n",
       "    <tr>\n",
       "      <th>1</th>\n",
       "      <td>ASC20160315</td>\n",
       "      <td>1.02</td>\n",
       "      <td>QuickShot</td>\n",
       "      <td>Novel Nano-Liposomes for Multi-Modal Image-Gui...</td>\n",
       "      <td>P. Patel&lt;sup&gt;1&lt;/sup&gt;, T. Kato&lt;sup&gt;1&lt;/sup&gt;, H. ...</td>\n",
       "      <td>&lt;strong&gt;Introduction&lt;/strong&gt;: To investigate ...</td>\n",
       "      <td>Basic Science</td>\n",
       "      <td>Experimental Therapeutics/Other</td>\n",
       "      <td>Cross Disciplinary</td>\n",
       "      <td>2016</td>\n",
       "      <td>...</td>\n",
       "      <td>P. Patel, T. Kato, H. Ujiie, D. Lee, J. Ahn, H...</td>\n",
       "      <td>[P. Patel,  T. Kato,  H. Ujiie,  D. Lee,  J. A...</td>\n",
       "      <td>P. Patel</td>\n",
       "      <td>K. Yasufuku</td>\n",
       "      <td>K. Yasufuku</td>\n",
       "      <td>University of Toronto,Division Of Thoracic Sur...</td>\n",
       "      <td>[University of Toronto,Division Of Thoracic Su...</td>\n",
       "      <td>[University of Toronto, Division Of Thoracic S...</td>\n",
       "      <td>University of Toronto,Division Of Thoracic Sur...</td>\n",
       "      <td>University Of Toronto</td>\n",
       "    </tr>\n",
       "    <tr>\n",
       "      <th>2</th>\n",
       "      <td>ASC20160574</td>\n",
       "      <td>1.03</td>\n",
       "      <td>QuickShot</td>\n",
       "      <td>Tumor-Targeting Nanotheranostic Micelles for N...</td>\n",
       "      <td>R. Jaskula Sztul&lt;sup&gt;1,3&lt;/sup&gt;, G. Chen&lt;sup&gt;2&lt;...</td>\n",
       "      <td>&lt;strong&gt;Introduction&lt;/strong&gt;:  Although neuro...</td>\n",
       "      <td>Basic Science</td>\n",
       "      <td>Experimental Therapeutics/Other</td>\n",
       "      <td>Cross Disciplinary</td>\n",
       "      <td>2016</td>\n",
       "      <td>...</td>\n",
       "      <td>R. Jaskula Sztul, G. Chen, A. Harrison, S. Gon...</td>\n",
       "      <td>[R. Jaskula Sztul,  G. Chen,  A. Harrison,  S....</td>\n",
       "      <td>R. Jaskula Sztul</td>\n",
       "      <td>H. Chen</td>\n",
       "      <td>H. Chen</td>\n",
       "      <td>University Of Wisconsin,Surgery,Madison, WI, U...</td>\n",
       "      <td>[University Of Wisconsin,Surgery,Madison, WI, ...</td>\n",
       "      <td>[University Of Wisconsin, Surgery]</td>\n",
       "      <td>University Of Wisconsin,Surgery,Madison, WI, USA</td>\n",
       "      <td>University Of Wisconsin</td>\n",
       "    </tr>\n",
       "    <tr>\n",
       "      <th>3</th>\n",
       "      <td>ASC20160105</td>\n",
       "      <td>1.04</td>\n",
       "      <td>QuickShot</td>\n",
       "      <td>SDF-1&amp;alpha; Decreases Inflammation in Diabeti...</td>\n",
       "      <td>M. M. Hodges&lt;sup&gt;1&lt;/sup&gt;, C. Zgheib&lt;sup&gt;1&lt;/sup...</td>\n",
       "      <td>&lt;strong&gt;Introduction&lt;/strong&gt;:  In 2014, the U...</td>\n",
       "      <td>Basic Science</td>\n",
       "      <td>Experimental Therapeutics/Other</td>\n",
       "      <td>Cross Disciplinary</td>\n",
       "      <td>2016</td>\n",
       "      <td>...</td>\n",
       "      <td>M. M. Hodges, C. Zgheib, J. Hu, J. Xu, K. W. L...</td>\n",
       "      <td>[M. M. Hodges,  C. Zgheib,  J. Hu,  J. Xu,  K....</td>\n",
       "      <td>M. M. Hodges</td>\n",
       "      <td>K. W. Liechty</td>\n",
       "      <td>K. Liechty</td>\n",
       "      <td>University Of Colorado Denver,Laboratory For F...</td>\n",
       "      <td>[University Of Colorado Denver,Laboratory For ...</td>\n",
       "      <td>[University Of Colorado Denver, Laboratory For...</td>\n",
       "      <td>University Of Colorado Denver,Laboratory For F...</td>\n",
       "      <td>University Of Colorado Denver</td>\n",
       "    </tr>\n",
       "    <tr>\n",
       "      <th>4</th>\n",
       "      <td>ASC20161100</td>\n",
       "      <td>1.05</td>\n",
       "      <td>QuickShot</td>\n",
       "      <td>Mechanistic Analysis: Alcohol Induces Apoptosi...</td>\n",
       "      <td>I. J. Lawandy&lt;sup&gt;1&lt;/sup&gt;, B. A. Potz&lt;sup&gt;1&lt;/s...</td>\n",
       "      <td>&lt;strong&gt;Introduction&lt;/strong&gt;:  Autophagy serv...</td>\n",
       "      <td>Basic Science</td>\n",
       "      <td>Disease Pathogenesis</td>\n",
       "      <td>General Surgery</td>\n",
       "      <td>2016</td>\n",
       "      <td>...</td>\n",
       "      <td>I. J. Lawandy, B. A. Potz, N. Y. Elmadhun, A. ...</td>\n",
       "      <td>[I. J. Lawandy,  B. A. Potz,  N. Y. Elmadhun, ...</td>\n",
       "      <td>I. J. Lawandy</td>\n",
       "      <td>F. W. Sellke</td>\n",
       "      <td>F. Sellke</td>\n",
       "      <td>Brown University,Surgery/Cardiothoracic Surger...</td>\n",
       "      <td>[Brown University,Surgery/Cardiothoracic Surge...</td>\n",
       "      <td>[Brown University, Surgery/Cardiothoracic Surg...</td>\n",
       "      <td>Brown University,Surgery/Cardiothoracic Surger...</td>\n",
       "      <td>Brown University</td>\n",
       "    </tr>\n",
       "    <tr>\n",
       "      <th>...</th>\n",
       "      <td>...</td>\n",
       "      <td>...</td>\n",
       "      <td>...</td>\n",
       "      <td>...</td>\n",
       "      <td>...</td>\n",
       "      <td>...</td>\n",
       "      <td>...</td>\n",
       "      <td>...</td>\n",
       "      <td>...</td>\n",
       "      <td>...</td>\n",
       "      <td>...</td>\n",
       "      <td>...</td>\n",
       "      <td>...</td>\n",
       "      <td>...</td>\n",
       "      <td>...</td>\n",
       "      <td>...</td>\n",
       "      <td>...</td>\n",
       "      <td>...</td>\n",
       "      <td>...</td>\n",
       "      <td>...</td>\n",
       "      <td>...</td>\n",
       "    </tr>\n",
       "    <tr>\n",
       "      <th>1484</th>\n",
       "      <td>ASC20230870</td>\n",
       "      <td>95.20</td>\n",
       "      <td>Quickshot</td>\n",
       "      <td>Exploring Barriers and Facilitators to Reducin...</td>\n",
       "      <td>H. J. Petit&lt;sup&gt;1&lt;/sup&gt;, G. A. Sullivan&lt;sup&gt;2&lt;...</td>\n",
       "      <td>&lt;strong&gt;Introduction&lt;/strong&gt;: \\r\\n\\r\\nThe ope...</td>\n",
       "      <td>Education</td>\n",
       "      <td>Other</td>\n",
       "      <td>General Surgery</td>\n",
       "      <td>2023</td>\n",
       "      <td>...</td>\n",
       "      <td>H. J. Petit, G. A. Sullivan, S. M. Cocoma, J. ...</td>\n",
       "      <td>[H. J. Petit,  G. A. Sullivan,  S. M. Cocoma, ...</td>\n",
       "      <td>H. J. Petit</td>\n",
       "      <td>A. N. Shah</td>\n",
       "      <td>A. Shah</td>\n",
       "      <td>Rush University Medical Center, Rush Medical C...</td>\n",
       "      <td>[Rush University Medical Center, Rush Medical ...</td>\n",
       "      <td>[Rush University Medical Center,  Rush Medical...</td>\n",
       "      <td>Rush University Medical Center, Rush Medical C...</td>\n",
       "      <td>Rush University Medical Center</td>\n",
       "    </tr>\n",
       "    <tr>\n",
       "      <th>1485</th>\n",
       "      <td>ASC20230825</td>\n",
       "      <td>95.21</td>\n",
       "      <td>Quickshot</td>\n",
       "      <td>Interactive Online Student Guide Increases Med...</td>\n",
       "      <td>S. L. Cochrun&lt;sup&gt;1&lt;/sup&gt;, J. B. Harris&lt;sup&gt;1&lt;...</td>\n",
       "      <td>&lt;strong&gt;Introduction&lt;/strong&gt;: \\r\\nThe surgery...</td>\n",
       "      <td>Education</td>\n",
       "      <td>Continuing Medical Education</td>\n",
       "      <td>General Surgery</td>\n",
       "      <td>2023</td>\n",
       "      <td>...</td>\n",
       "      <td>S. L. Cochrun, J. B. Harris, J. G. Willis, V. ...</td>\n",
       "      <td>[S. L. Cochrun,  J. B. Harris,  J. G. Willis, ...</td>\n",
       "      <td>S. L. Cochrun</td>\n",
       "      <td>J. M. Fazendin</td>\n",
       "      <td>J. Fazendin</td>\n",
       "      <td>University Of Alabama at Birmingham, Departmen...</td>\n",
       "      <td>[University Of Alabama at Birmingham, Departme...</td>\n",
       "      <td>[University Of Alabama at Birmingham,  Departm...</td>\n",
       "      <td>University Of Alabama at Birmingham, Departmen...</td>\n",
       "      <td>University Of Alabama At Birmingham</td>\n",
       "    </tr>\n",
       "    <tr>\n",
       "      <th>1486</th>\n",
       "      <td>ASC20230803</td>\n",
       "      <td>95.22</td>\n",
       "      <td>Quickshot</td>\n",
       "      <td>Biases in The General Surgery Residency Interv...</td>\n",
       "      <td>Z. Haddadin&lt;sup&gt;1&lt;/sup&gt;, A. Parishka&lt;sup&gt;1&lt;/su...</td>\n",
       "      <td>&lt;strong&gt;Introduction&lt;/strong&gt;: \\r\\nThe intervi...</td>\n",
       "      <td>Education</td>\n",
       "      <td>Continuing Medical Education</td>\n",
       "      <td>General Surgery</td>\n",
       "      <td>2023</td>\n",
       "      <td>...</td>\n",
       "      <td>Z. Haddadin, A. Parishka, B. Moran, R. Dallal</td>\n",
       "      <td>[Z. Haddadin,  A. Parishka,  B. Moran,  R. Dal...</td>\n",
       "      <td>Z. Haddadin</td>\n",
       "      <td>R. Dallal</td>\n",
       "      <td>R. Dallal</td>\n",
       "      <td>Albert Einstein Medical Center, General Surger...</td>\n",
       "      <td>[Albert Einstein Medical Center, General Surge...</td>\n",
       "      <td>[Albert Einstein Medical Center,  General Surg...</td>\n",
       "      <td>Albert Einstein Medical Center, General Surger...</td>\n",
       "      <td>Albert Einstein Medical Center</td>\n",
       "    </tr>\n",
       "    <tr>\n",
       "      <th>1487</th>\n",
       "      <td>ASC20230839</td>\n",
       "      <td>95.23</td>\n",
       "      <td>Quickshot</td>\n",
       "      <td>Is the Increase in Minimally Invasive Colectom...</td>\n",
       "      <td>S. Mehra&lt;sup&gt;2&lt;/sup&gt;, A. Kunac&lt;sup&gt;1,2&lt;/sup&gt;, ...</td>\n",
       "      <td>&lt;strong&gt;Introduction&lt;/strong&gt;: &amp;nbsp;As minima...</td>\n",
       "      <td>Education</td>\n",
       "      <td>Resident Education</td>\n",
       "      <td>General Surgery</td>\n",
       "      <td>2023</td>\n",
       "      <td>...</td>\n",
       "      <td>S. Mehra, A. Kunac, G. O. Tsui, J. B. Oliver, ...</td>\n",
       "      <td>[S. Mehra,  A. Kunac,  G. O. Tsui,  J. B. Oliv...</td>\n",
       "      <td>S. Mehra</td>\n",
       "      <td>D. J. Anjaria</td>\n",
       "      <td>D. Anjaria</td>\n",
       "      <td>VA New Jersey Healthcare System, General Surge...</td>\n",
       "      <td>[VA New Jersey Healthcare System, General Surg...</td>\n",
       "      <td>[VA New Jersey Healthcare System,  General Sur...</td>\n",
       "      <td>VA New Jersey Healthcare System, General Surge...</td>\n",
       "      <td>Va New Jersey Healthcare System</td>\n",
       "    </tr>\n",
       "    <tr>\n",
       "      <th>1488</th>\n",
       "      <td>ASC20231877</td>\n",
       "      <td>95.24</td>\n",
       "      <td>Quickshot</td>\n",
       "      <td>Gender Diversity in General Surgery, Is It Real?</td>\n",
       "      <td>A. Jyot&lt;sup&gt;1&lt;/sup&gt;, V. Mittal&lt;sup&gt;1&lt;/sup&gt;  &lt;s...</td>\n",
       "      <td>&lt;strong&gt;Introduction&lt;/strong&gt;:  Even though wo...</td>\n",
       "      <td>Education</td>\n",
       "      <td>Resident Education</td>\n",
       "      <td>General Surgery</td>\n",
       "      <td>2023</td>\n",
       "      <td>...</td>\n",
       "      <td>A. Jyot, V. Mittal</td>\n",
       "      <td>[A. Jyot,  V. Mittal]</td>\n",
       "      <td>A. Jyot</td>\n",
       "      <td>V. Mittal</td>\n",
       "      <td>V. Mittal</td>\n",
       "      <td>Providence Hospital And Medical Centers, Gener...</td>\n",
       "      <td>[Providence Hospital And Medical Centers, Gene...</td>\n",
       "      <td>[Providence Hospital And Medical Centers,  Gen...</td>\n",
       "      <td>Providence Hospital And Medical Centers, Gener...</td>\n",
       "      <td>Providence Hospital And Medical Centers</td>\n",
       "    </tr>\n",
       "  </tbody>\n",
       "</table>\n",
       "<p>10528 rows × 26 columns</p>\n",
       "</div>"
      ],
      "text/plain": [
       "     control_number  session_number session_type  \\\n",
       "0       ASC20161024            1.01    QuickShot   \n",
       "1       ASC20160315            1.02    QuickShot   \n",
       "2       ASC20160574            1.03    QuickShot   \n",
       "3       ASC20160105            1.04    QuickShot   \n",
       "4       ASC20161100            1.05    QuickShot   \n",
       "...             ...             ...          ...   \n",
       "1484    ASC20230870           95.20    Quickshot   \n",
       "1485    ASC20230825           95.21    Quickshot   \n",
       "1486    ASC20230803           95.22    Quickshot   \n",
       "1487    ASC20230839           95.23    Quickshot   \n",
       "1488    ASC20231877           95.24    Quickshot   \n",
       "\n",
       "                                         abstract_title  \\\n",
       "0     Mimetic sHDL Nanoparticles: a Novel Drug-Deliv...   \n",
       "1     Novel Nano-Liposomes for Multi-Modal Image-Gui...   \n",
       "2     Tumor-Targeting Nanotheranostic Micelles for N...   \n",
       "3     SDF-1&alpha; Decreases Inflammation in Diabeti...   \n",
       "4     Mechanistic Analysis: Alcohol Induces Apoptosi...   \n",
       "...                                                 ...   \n",
       "1484  Exploring Barriers and Facilitators to Reducin...   \n",
       "1485  Interactive Online Student Guide Increases Med...   \n",
       "1486  Biases in The General Surgery Residency Interv...   \n",
       "1487  Is the Increase in Minimally Invasive Colectom...   \n",
       "1488   Gender Diversity in General Surgery, Is It Real?   \n",
       "\n",
       "                                           author_block  \\\n",
       "0     P. T. White<sup>1</sup>, C. Subramanian<sup>1<...   \n",
       "1     P. Patel<sup>1</sup>, T. Kato<sup>1</sup>, H. ...   \n",
       "2     R. Jaskula Sztul<sup>1,3</sup>, G. Chen<sup>2<...   \n",
       "3     M. M. Hodges<sup>1</sup>, C. Zgheib<sup>1</sup...   \n",
       "4     I. J. Lawandy<sup>1</sup>, B. A. Potz<sup>1</s...   \n",
       "...                                                 ...   \n",
       "1484  H. J. Petit<sup>1</sup>, G. A. Sullivan<sup>2<...   \n",
       "1485  S. L. Cochrun<sup>1</sup>, J. B. Harris<sup>1<...   \n",
       "1486  Z. Haddadin<sup>1</sup>, A. Parishka<sup>1</su...   \n",
       "1487  S. Mehra<sup>2</sup>, A. Kunac<sup>1,2</sup>, ...   \n",
       "1488  A. Jyot<sup>1</sup>, V. Mittal<sup>1</sup>  <s...   \n",
       "\n",
       "                                          abstract_body  abstract_type  \\\n",
       "0     <strong>Introduction</strong>:  Triple negativ...  Basic Science   \n",
       "1     <strong>Introduction</strong>: To investigate ...  Basic Science   \n",
       "2     <strong>Introduction</strong>:  Although neuro...  Basic Science   \n",
       "3     <strong>Introduction</strong>:  In 2014, the U...  Basic Science   \n",
       "4     <strong>Introduction</strong>:  Autophagy serv...  Basic Science   \n",
       "...                                                 ...            ...   \n",
       "1484  <strong>Introduction</strong>: \\r\\n\\r\\nThe ope...      Education   \n",
       "1485  <strong>Introduction</strong>: \\r\\nThe surgery...      Education   \n",
       "1486  <strong>Introduction</strong>: \\r\\nThe intervi...      Education   \n",
       "1487  <strong>Introduction</strong>: &nbsp;As minima...      Education   \n",
       "1488  <strong>Introduction</strong>:  Even though wo...      Education   \n",
       "\n",
       "             abstract_scientific_area abstract_clinical_area  year  ...  \\\n",
       "0     Experimental Therapeutics/Other     Cross Disciplinary  2016  ...   \n",
       "1     Experimental Therapeutics/Other     Cross Disciplinary  2016  ...   \n",
       "2     Experimental Therapeutics/Other     Cross Disciplinary  2016  ...   \n",
       "3     Experimental Therapeutics/Other     Cross Disciplinary  2016  ...   \n",
       "4                Disease Pathogenesis        General Surgery  2016  ...   \n",
       "...                               ...                    ...   ...  ...   \n",
       "1484                            Other        General Surgery  2023  ...   \n",
       "1485     Continuing Medical Education        General Surgery  2023  ...   \n",
       "1486     Continuing Medical Education        General Surgery  2023  ...   \n",
       "1487               Resident Education        General Surgery  2023  ...   \n",
       "1488               Resident Education        General Surgery  2023  ...   \n",
       "\n",
       "                                                authors  \\\n",
       "0     P. T. White, C. Subramanian, R. Kuai, J. Moon,...   \n",
       "1     P. Patel, T. Kato, H. Ujiie, D. Lee, J. Ahn, H...   \n",
       "2     R. Jaskula Sztul, G. Chen, A. Harrison, S. Gon...   \n",
       "3     M. M. Hodges, C. Zgheib, J. Hu, J. Xu, K. W. L...   \n",
       "4     I. J. Lawandy, B. A. Potz, N. Y. Elmadhun, A. ...   \n",
       "...                                                 ...   \n",
       "1484  H. J. Petit, G. A. Sullivan, S. M. Cocoma, J. ...   \n",
       "1485  S. L. Cochrun, J. B. Harris, J. G. Willis, V. ...   \n",
       "1486      Z. Haddadin, A. Parishka, B. Moran, R. Dallal   \n",
       "1487  S. Mehra, A. Kunac, G. O. Tsui, J. B. Oliver, ...   \n",
       "1488                                 A. Jyot, V. Mittal   \n",
       "\n",
       "                                            author_list      first_author  \\\n",
       "0     [P. T. White,  C. Subramanian,  R. Kuai,  J. M...       P. T. White   \n",
       "1     [P. Patel,  T. Kato,  H. Ujiie,  D. Lee,  J. A...          P. Patel   \n",
       "2     [R. Jaskula Sztul,  G. Chen,  A. Harrison,  S....  R. Jaskula Sztul   \n",
       "3     [M. M. Hodges,  C. Zgheib,  J. Hu,  J. Xu,  K....      M. M. Hodges   \n",
       "4     [I. J. Lawandy,  B. A. Potz,  N. Y. Elmadhun, ...     I. J. Lawandy   \n",
       "...                                                 ...               ...   \n",
       "1484  [H. J. Petit,  G. A. Sullivan,  S. M. Cocoma, ...       H. J. Petit   \n",
       "1485  [S. L. Cochrun,  J. B. Harris,  J. G. Willis, ...     S. L. Cochrun   \n",
       "1486  [Z. Haddadin,  A. Parishka,  B. Moran,  R. Dal...       Z. Haddadin   \n",
       "1487  [S. Mehra,  A. Kunac,  G. O. Tsui,  J. B. Oliv...          S. Mehra   \n",
       "1488                              [A. Jyot,  V. Mittal]           A. Jyot   \n",
       "\n",
       "        senior_author senior_author2  \\\n",
       "0         M. S. Cohen       M. Cohen   \n",
       "1         K. Yasufuku    K. Yasufuku   \n",
       "2             H. Chen        H. Chen   \n",
       "3       K. W. Liechty     K. Liechty   \n",
       "4        F. W. Sellke      F. Sellke   \n",
       "...               ...            ...   \n",
       "1484       A. N. Shah        A. Shah   \n",
       "1485   J. M. Fazendin    J. Fazendin   \n",
       "1486        R. Dallal      R. Dallal   \n",
       "1487    D. J. Anjaria     D. Anjaria   \n",
       "1488        V. Mittal      V. Mittal   \n",
       "\n",
       "                                           institutions  \\\n",
       "0     University Of Michigan,Department Of Biomedica...   \n",
       "1     University of Toronto,Division Of Thoracic Sur...   \n",
       "2     University Of Wisconsin,Surgery,Madison, WI, U...   \n",
       "3     University Of Colorado Denver,Laboratory For F...   \n",
       "4     Brown University,Surgery/Cardiothoracic Surger...   \n",
       "...                                                 ...   \n",
       "1484  Rush University Medical Center, Rush Medical C...   \n",
       "1485  University Of Alabama at Birmingham, Departmen...   \n",
       "1486  Albert Einstein Medical Center, General Surger...   \n",
       "1487  VA New Jersey Healthcare System, General Surge...   \n",
       "1488  Providence Hospital And Medical Centers, Gener...   \n",
       "\n",
       "                                       institution_list  \\\n",
       "0     [University Of Michigan,Department Of Biomedic...   \n",
       "1     [University of Toronto,Division Of Thoracic Su...   \n",
       "2     [University Of Wisconsin,Surgery,Madison, WI, ...   \n",
       "3     [University Of Colorado Denver,Laboratory For ...   \n",
       "4     [Brown University,Surgery/Cardiothoracic Surge...   \n",
       "...                                                 ...   \n",
       "1484  [Rush University Medical Center, Rush Medical ...   \n",
       "1485  [University Of Alabama at Birmingham, Departme...   \n",
       "1486  [Albert Einstein Medical Center, General Surge...   \n",
       "1487  [VA New Jersey Healthcare System, General Surg...   \n",
       "1488  [Providence Hospital And Medical Centers, Gene...   \n",
       "\n",
       "                                      first_institution  \\\n",
       "0     [University Of Michigan, Department Of Biomedi...   \n",
       "1     [University of Toronto, Division Of Thoracic S...   \n",
       "2                    [University Of Wisconsin, Surgery]   \n",
       "3     [University Of Colorado Denver, Laboratory For...   \n",
       "4     [Brown University, Surgery/Cardiothoracic Surg...   \n",
       "...                                                 ...   \n",
       "1484  [Rush University Medical Center,  Rush Medical...   \n",
       "1485  [University Of Alabama at Birmingham,  Departm...   \n",
       "1486  [Albert Einstein Medical Center,  General Surg...   \n",
       "1487  [VA New Jersey Healthcare System,  General Sur...   \n",
       "1488  [Providence Hospital And Medical Centers,  Gen...   \n",
       "\n",
       "                                      smart_institution  \\\n",
       "0     University Of Michigan,Department Of Biomedica...   \n",
       "1     University of Toronto,Division Of Thoracic Sur...   \n",
       "2     University Of Wisconsin,Surgery,Madison, WI, USA    \n",
       "3     University Of Colorado Denver,Laboratory For F...   \n",
       "4     Brown University,Surgery/Cardiothoracic Surger...   \n",
       "...                                                 ...   \n",
       "1484  Rush University Medical Center, Rush Medical C...   \n",
       "1485  University Of Alabama at Birmingham, Departmen...   \n",
       "1486  Albert Einstein Medical Center, General Surger...   \n",
       "1487  VA New Jersey Healthcare System, General Surge...   \n",
       "1488  Providence Hospital And Medical Centers, Gener...   \n",
       "\n",
       "                           smart_institution2  \n",
       "0                      University Of Michigan  \n",
       "1                       University Of Toronto  \n",
       "2                     University Of Wisconsin  \n",
       "3               University Of Colorado Denver  \n",
       "4                            Brown University  \n",
       "...                                       ...  \n",
       "1484           Rush University Medical Center  \n",
       "1485      University Of Alabama At Birmingham  \n",
       "1486           Albert Einstein Medical Center  \n",
       "1487          Va New Jersey Healthcare System  \n",
       "1488  Providence Hospital And Medical Centers  \n",
       "\n",
       "[10528 rows x 26 columns]"
      ]
     },
     "execution_count": 24,
     "metadata": {},
     "output_type": "execute_result"
    }
   ],
   "source": [
    "df2 = pd.concat([df, df_author], axis=1)\n",
    "df2"
   ]
  },
  {
   "cell_type": "code",
   "execution_count": 25,
   "metadata": {},
   "outputs": [
    {
     "data": {
      "text/plain": [
       "10396"
      ]
     },
     "execution_count": 25,
     "metadata": {},
     "output_type": "execute_result"
    }
   ],
   "source": [
    "len(df2['control_number'].unique())"
   ]
  },
  {
   "attachments": {},
   "cell_type": "markdown",
   "metadata": {},
   "source": [
    "### Number of Abstracts by Year\n",
    "\n",
    "First, we calculate the number of abstracts by year"
   ]
  },
  {
   "cell_type": "code",
   "execution_count": 26,
   "metadata": {},
   "outputs": [
    {
     "data": {
      "application/vnd.plotly.v1+json": {
       "config": {
        "plotlyServerURL": "https://plot.ly"
       },
       "data": [
        {
         "alignmentgroup": "True",
         "hovertemplate": "Year=%{x}<br>Total Abstracts (2016-2023)=%{y}<extra></extra>",
         "legendgroup": "",
         "marker": {
          "color": "#636efa",
          "pattern": {
           "shape": ""
          }
         },
         "name": "",
         "offsetgroup": "",
         "orientation": "v",
         "showlegend": false,
         "textfont": {
          "size": 24
         },
         "textposition": "auto",
         "texttemplate": "%{y:}",
         "type": "bar",
         "x": [
          2016,
          2017,
          2018,
          2019,
          2020,
          2021,
          2022,
          2023
         ],
         "xaxis": "x",
         "y": [
          1125,
          1386,
          1368,
          1536,
          1742,
          922,
          848,
          1469
         ],
         "yaxis": "y"
        }
       ],
       "layout": {
        "barmode": "relative",
        "font": {
         "family": "Inter",
         "size": 24
        },
        "height": 800,
        "legend": {
         "tracegroupgap": 0
        },
        "margin": {
         "t": 60
        },
        "template": {
         "data": {
          "bar": [
           {
            "error_x": {
             "color": "#2a3f5f"
            },
            "error_y": {
             "color": "#2a3f5f"
            },
            "marker": {
             "line": {
              "color": "#E5ECF6",
              "width": 0.5
             },
             "pattern": {
              "fillmode": "overlay",
              "size": 10,
              "solidity": 0.2
             }
            },
            "type": "bar"
           }
          ],
          "barpolar": [
           {
            "marker": {
             "line": {
              "color": "#E5ECF6",
              "width": 0.5
             },
             "pattern": {
              "fillmode": "overlay",
              "size": 10,
              "solidity": 0.2
             }
            },
            "type": "barpolar"
           }
          ],
          "carpet": [
           {
            "aaxis": {
             "endlinecolor": "#2a3f5f",
             "gridcolor": "white",
             "linecolor": "white",
             "minorgridcolor": "white",
             "startlinecolor": "#2a3f5f"
            },
            "baxis": {
             "endlinecolor": "#2a3f5f",
             "gridcolor": "white",
             "linecolor": "white",
             "minorgridcolor": "white",
             "startlinecolor": "#2a3f5f"
            },
            "type": "carpet"
           }
          ],
          "choropleth": [
           {
            "colorbar": {
             "outlinewidth": 0,
             "ticks": ""
            },
            "type": "choropleth"
           }
          ],
          "contour": [
           {
            "colorbar": {
             "outlinewidth": 0,
             "ticks": ""
            },
            "colorscale": [
             [
              0,
              "#0d0887"
             ],
             [
              0.1111111111111111,
              "#46039f"
             ],
             [
              0.2222222222222222,
              "#7201a8"
             ],
             [
              0.3333333333333333,
              "#9c179e"
             ],
             [
              0.4444444444444444,
              "#bd3786"
             ],
             [
              0.5555555555555556,
              "#d8576b"
             ],
             [
              0.6666666666666666,
              "#ed7953"
             ],
             [
              0.7777777777777778,
              "#fb9f3a"
             ],
             [
              0.8888888888888888,
              "#fdca26"
             ],
             [
              1,
              "#f0f921"
             ]
            ],
            "type": "contour"
           }
          ],
          "contourcarpet": [
           {
            "colorbar": {
             "outlinewidth": 0,
             "ticks": ""
            },
            "type": "contourcarpet"
           }
          ],
          "heatmap": [
           {
            "colorbar": {
             "outlinewidth": 0,
             "ticks": ""
            },
            "colorscale": [
             [
              0,
              "#0d0887"
             ],
             [
              0.1111111111111111,
              "#46039f"
             ],
             [
              0.2222222222222222,
              "#7201a8"
             ],
             [
              0.3333333333333333,
              "#9c179e"
             ],
             [
              0.4444444444444444,
              "#bd3786"
             ],
             [
              0.5555555555555556,
              "#d8576b"
             ],
             [
              0.6666666666666666,
              "#ed7953"
             ],
             [
              0.7777777777777778,
              "#fb9f3a"
             ],
             [
              0.8888888888888888,
              "#fdca26"
             ],
             [
              1,
              "#f0f921"
             ]
            ],
            "type": "heatmap"
           }
          ],
          "heatmapgl": [
           {
            "colorbar": {
             "outlinewidth": 0,
             "ticks": ""
            },
            "colorscale": [
             [
              0,
              "#0d0887"
             ],
             [
              0.1111111111111111,
              "#46039f"
             ],
             [
              0.2222222222222222,
              "#7201a8"
             ],
             [
              0.3333333333333333,
              "#9c179e"
             ],
             [
              0.4444444444444444,
              "#bd3786"
             ],
             [
              0.5555555555555556,
              "#d8576b"
             ],
             [
              0.6666666666666666,
              "#ed7953"
             ],
             [
              0.7777777777777778,
              "#fb9f3a"
             ],
             [
              0.8888888888888888,
              "#fdca26"
             ],
             [
              1,
              "#f0f921"
             ]
            ],
            "type": "heatmapgl"
           }
          ],
          "histogram": [
           {
            "marker": {
             "pattern": {
              "fillmode": "overlay",
              "size": 10,
              "solidity": 0.2
             }
            },
            "type": "histogram"
           }
          ],
          "histogram2d": [
           {
            "colorbar": {
             "outlinewidth": 0,
             "ticks": ""
            },
            "colorscale": [
             [
              0,
              "#0d0887"
             ],
             [
              0.1111111111111111,
              "#46039f"
             ],
             [
              0.2222222222222222,
              "#7201a8"
             ],
             [
              0.3333333333333333,
              "#9c179e"
             ],
             [
              0.4444444444444444,
              "#bd3786"
             ],
             [
              0.5555555555555556,
              "#d8576b"
             ],
             [
              0.6666666666666666,
              "#ed7953"
             ],
             [
              0.7777777777777778,
              "#fb9f3a"
             ],
             [
              0.8888888888888888,
              "#fdca26"
             ],
             [
              1,
              "#f0f921"
             ]
            ],
            "type": "histogram2d"
           }
          ],
          "histogram2dcontour": [
           {
            "colorbar": {
             "outlinewidth": 0,
             "ticks": ""
            },
            "colorscale": [
             [
              0,
              "#0d0887"
             ],
             [
              0.1111111111111111,
              "#46039f"
             ],
             [
              0.2222222222222222,
              "#7201a8"
             ],
             [
              0.3333333333333333,
              "#9c179e"
             ],
             [
              0.4444444444444444,
              "#bd3786"
             ],
             [
              0.5555555555555556,
              "#d8576b"
             ],
             [
              0.6666666666666666,
              "#ed7953"
             ],
             [
              0.7777777777777778,
              "#fb9f3a"
             ],
             [
              0.8888888888888888,
              "#fdca26"
             ],
             [
              1,
              "#f0f921"
             ]
            ],
            "type": "histogram2dcontour"
           }
          ],
          "mesh3d": [
           {
            "colorbar": {
             "outlinewidth": 0,
             "ticks": ""
            },
            "type": "mesh3d"
           }
          ],
          "parcoords": [
           {
            "line": {
             "colorbar": {
              "outlinewidth": 0,
              "ticks": ""
             }
            },
            "type": "parcoords"
           }
          ],
          "pie": [
           {
            "automargin": true,
            "type": "pie"
           }
          ],
          "scatter": [
           {
            "fillpattern": {
             "fillmode": "overlay",
             "size": 10,
             "solidity": 0.2
            },
            "type": "scatter"
           }
          ],
          "scatter3d": [
           {
            "line": {
             "colorbar": {
              "outlinewidth": 0,
              "ticks": ""
             }
            },
            "marker": {
             "colorbar": {
              "outlinewidth": 0,
              "ticks": ""
             }
            },
            "type": "scatter3d"
           }
          ],
          "scattercarpet": [
           {
            "marker": {
             "colorbar": {
              "outlinewidth": 0,
              "ticks": ""
             }
            },
            "type": "scattercarpet"
           }
          ],
          "scattergeo": [
           {
            "marker": {
             "colorbar": {
              "outlinewidth": 0,
              "ticks": ""
             }
            },
            "type": "scattergeo"
           }
          ],
          "scattergl": [
           {
            "marker": {
             "colorbar": {
              "outlinewidth": 0,
              "ticks": ""
             }
            },
            "type": "scattergl"
           }
          ],
          "scattermapbox": [
           {
            "marker": {
             "colorbar": {
              "outlinewidth": 0,
              "ticks": ""
             }
            },
            "type": "scattermapbox"
           }
          ],
          "scatterpolar": [
           {
            "marker": {
             "colorbar": {
              "outlinewidth": 0,
              "ticks": ""
             }
            },
            "type": "scatterpolar"
           }
          ],
          "scatterpolargl": [
           {
            "marker": {
             "colorbar": {
              "outlinewidth": 0,
              "ticks": ""
             }
            },
            "type": "scatterpolargl"
           }
          ],
          "scatterternary": [
           {
            "marker": {
             "colorbar": {
              "outlinewidth": 0,
              "ticks": ""
             }
            },
            "type": "scatterternary"
           }
          ],
          "surface": [
           {
            "colorbar": {
             "outlinewidth": 0,
             "ticks": ""
            },
            "colorscale": [
             [
              0,
              "#0d0887"
             ],
             [
              0.1111111111111111,
              "#46039f"
             ],
             [
              0.2222222222222222,
              "#7201a8"
             ],
             [
              0.3333333333333333,
              "#9c179e"
             ],
             [
              0.4444444444444444,
              "#bd3786"
             ],
             [
              0.5555555555555556,
              "#d8576b"
             ],
             [
              0.6666666666666666,
              "#ed7953"
             ],
             [
              0.7777777777777778,
              "#fb9f3a"
             ],
             [
              0.8888888888888888,
              "#fdca26"
             ],
             [
              1,
              "#f0f921"
             ]
            ],
            "type": "surface"
           }
          ],
          "table": [
           {
            "cells": {
             "fill": {
              "color": "#EBF0F8"
             },
             "line": {
              "color": "white"
             }
            },
            "header": {
             "fill": {
              "color": "#C8D4E3"
             },
             "line": {
              "color": "white"
             }
            },
            "type": "table"
           }
          ]
         },
         "layout": {
          "annotationdefaults": {
           "arrowcolor": "#2a3f5f",
           "arrowhead": 0,
           "arrowwidth": 1
          },
          "autotypenumbers": "strict",
          "coloraxis": {
           "colorbar": {
            "outlinewidth": 0,
            "ticks": ""
           }
          },
          "colorscale": {
           "diverging": [
            [
             0,
             "#8e0152"
            ],
            [
             0.1,
             "#c51b7d"
            ],
            [
             0.2,
             "#de77ae"
            ],
            [
             0.3,
             "#f1b6da"
            ],
            [
             0.4,
             "#fde0ef"
            ],
            [
             0.5,
             "#f7f7f7"
            ],
            [
             0.6,
             "#e6f5d0"
            ],
            [
             0.7,
             "#b8e186"
            ],
            [
             0.8,
             "#7fbc41"
            ],
            [
             0.9,
             "#4d9221"
            ],
            [
             1,
             "#276419"
            ]
           ],
           "sequential": [
            [
             0,
             "#0d0887"
            ],
            [
             0.1111111111111111,
             "#46039f"
            ],
            [
             0.2222222222222222,
             "#7201a8"
            ],
            [
             0.3333333333333333,
             "#9c179e"
            ],
            [
             0.4444444444444444,
             "#bd3786"
            ],
            [
             0.5555555555555556,
             "#d8576b"
            ],
            [
             0.6666666666666666,
             "#ed7953"
            ],
            [
             0.7777777777777778,
             "#fb9f3a"
            ],
            [
             0.8888888888888888,
             "#fdca26"
            ],
            [
             1,
             "#f0f921"
            ]
           ],
           "sequentialminus": [
            [
             0,
             "#0d0887"
            ],
            [
             0.1111111111111111,
             "#46039f"
            ],
            [
             0.2222222222222222,
             "#7201a8"
            ],
            [
             0.3333333333333333,
             "#9c179e"
            ],
            [
             0.4444444444444444,
             "#bd3786"
            ],
            [
             0.5555555555555556,
             "#d8576b"
            ],
            [
             0.6666666666666666,
             "#ed7953"
            ],
            [
             0.7777777777777778,
             "#fb9f3a"
            ],
            [
             0.8888888888888888,
             "#fdca26"
            ],
            [
             1,
             "#f0f921"
            ]
           ]
          },
          "colorway": [
           "#636efa",
           "#EF553B",
           "#00cc96",
           "#ab63fa",
           "#FFA15A",
           "#19d3f3",
           "#FF6692",
           "#B6E880",
           "#FF97FF",
           "#FECB52"
          ],
          "font": {
           "color": "#2a3f5f"
          },
          "geo": {
           "bgcolor": "white",
           "lakecolor": "white",
           "landcolor": "#E5ECF6",
           "showlakes": true,
           "showland": true,
           "subunitcolor": "white"
          },
          "hoverlabel": {
           "align": "left"
          },
          "hovermode": "closest",
          "mapbox": {
           "style": "light"
          },
          "paper_bgcolor": "white",
          "plot_bgcolor": "#E5ECF6",
          "polar": {
           "angularaxis": {
            "gridcolor": "white",
            "linecolor": "white",
            "ticks": ""
           },
           "bgcolor": "#E5ECF6",
           "radialaxis": {
            "gridcolor": "white",
            "linecolor": "white",
            "ticks": ""
           }
          },
          "scene": {
           "xaxis": {
            "backgroundcolor": "#E5ECF6",
            "gridcolor": "white",
            "gridwidth": 2,
            "linecolor": "white",
            "showbackground": true,
            "ticks": "",
            "zerolinecolor": "white"
           },
           "yaxis": {
            "backgroundcolor": "#E5ECF6",
            "gridcolor": "white",
            "gridwidth": 2,
            "linecolor": "white",
            "showbackground": true,
            "ticks": "",
            "zerolinecolor": "white"
           },
           "zaxis": {
            "backgroundcolor": "#E5ECF6",
            "gridcolor": "white",
            "gridwidth": 2,
            "linecolor": "white",
            "showbackground": true,
            "ticks": "",
            "zerolinecolor": "white"
           }
          },
          "shapedefaults": {
           "line": {
            "color": "#2a3f5f"
           }
          },
          "ternary": {
           "aaxis": {
            "gridcolor": "white",
            "linecolor": "white",
            "ticks": ""
           },
           "baxis": {
            "gridcolor": "white",
            "linecolor": "white",
            "ticks": ""
           },
           "bgcolor": "#E5ECF6",
           "caxis": {
            "gridcolor": "white",
            "linecolor": "white",
            "ticks": ""
           }
          },
          "title": {
           "x": 0.05
          },
          "xaxis": {
           "automargin": true,
           "gridcolor": "white",
           "linecolor": "white",
           "ticks": "",
           "title": {
            "standoff": 15
           },
           "zerolinecolor": "white",
           "zerolinewidth": 2
          },
          "yaxis": {
           "automargin": true,
           "gridcolor": "white",
           "linecolor": "white",
           "ticks": "",
           "title": {
            "standoff": 15
           },
           "zerolinecolor": "white",
           "zerolinewidth": 2
          }
         }
        },
        "width": 1400,
        "xaxis": {
         "anchor": "y",
         "domain": [
          0,
          1
         ],
         "title": {
          "text": "Year"
         }
        },
        "yaxis": {
         "anchor": "x",
         "domain": [
          0,
          1
         ],
         "showticklabels": false,
         "title": {
          "text": "Total Abstracts (2016-2023)"
         }
        }
       }
      }
     },
     "metadata": {},
     "output_type": "display_data"
    }
   ],
   "source": [
    "df_years = df2.groupby('year').agg(\n",
    "    total_count = ('control_number', 'nunique')\n",
    ")\n",
    "\n",
    "df_years.reset_index(inplace=True)\n",
    "df_years\n",
    "fig = px.bar(df_years, x='year', y='total_count', text_auto='',\n",
    "labels = dict(year = 'Year', total_count = 'Total Abstracts (2016-2023)'))\n",
    "# fig.show()\n",
    "\n",
    "fig.update_layout(\n",
    "    width=1400,\n",
    "    height=800,\n",
    "    font=dict(\n",
    "        family=\"Inter\",\n",
    "        size=24))\n",
    "\n",
    "fig.update_traces(textfont_size=24)\n",
    "\n",
    "fig.update_yaxes(showticklabels=False)\n",
    "\n",
    "\n",
    "\n",
    "fig.show()\n",
    "\n",
    "# fig.write_image('bar2.svg')\n",
    "\n"
   ]
  },
  {
   "attachments": {},
   "cell_type": "markdown",
   "metadata": {},
   "source": [
    "### Number of Abstracts By Institution\n",
    "\n",
    "Here, we calculate the number of abstracts by institution for the duration of the study period"
   ]
  },
  {
   "cell_type": "code",
   "execution_count": 27,
   "metadata": {},
   "outputs": [],
   "source": [
    "# df_institutions = df2.groupby(['smart_institution2', 'year']).agg(\n",
    "#     count = ('control_number', 'nunique')\n",
    "# )\n",
    "\n",
    "df_institutions = df2.groupby(['smart_institution2']).agg(\n",
    "    count = ('control_number', 'nunique')\n",
    ")\n",
    "df_institutions.sort_values(by='count', ascending=False, inplace=True)\n",
    "df_institutions.reset_index(inplace=True)"
   ]
  },
  {
   "attachments": {},
   "cell_type": "markdown",
   "metadata": {},
   "source": [
    "### Correcting Institution Duplicates Using Fuzzy Matching\n",
    "\n",
    "We need to combine data for institutions that are the same in reality even if the name is written differently. One example of this is \"University of Alabama - Birmingham\" vs \"University of Alabama Birmingham\" vs \"University of Alabama\". We will attempt to resolve this using fuzzy string matching. While not perfect, we can get pretty close with this and at least avoid errors among the most frequent institutions. Another example is \"University of California\" and \"David Geffen School of Medicine\". Given no string relation in this case, we will need to resolve these differences manually.\n"
   ]
  },
  {
   "cell_type": "code",
   "execution_count": 28,
   "metadata": {},
   "outputs": [
    {
     "name": "stderr",
     "output_type": "stream",
     "text": [
      "WARNING:root:Applied processor reduces input query to empty string, all comparisons will have score 0. [Query: '']\n",
      "WARNING:root:Applied processor reduces input query to empty string, all comparisons will have score 0. [Query: '']\n"
     ]
    }
   ],
   "source": [
    "def _normalize_name(name) -> str:\n",
    "    \"\"\"\n",
    "    Normalize the name of a university\n",
    "    :param str name:\n",
    "    :rtype: str\n",
    "    \"\"\"\n",
    "    norm = name.lower()\n",
    "    norm = re.sub(\n",
    "        r'( +at +)|( *of *)|(university)|(hospital)|(medical center)|(institution)',\n",
    "        ' ',\n",
    "        norm,\n",
    "    )\n",
    "    return norm.replace(\"'\", \"\").strip()\n",
    "\n",
    "\n",
    "def process_unis(uni_list, uni_to_pub):\n",
    "    \"\"\"\n",
    "    Process the list of unis\n",
    "    :param List[str] uni_list:\n",
    "    :param Dict[str, int] uni_to_pub:\n",
    "    :rtype: Dict[str, str]\n",
    "    \"\"\"\n",
    "    # Normalize unis\n",
    "    uni_list_norm = [(uni, _normalize_name(uni)) for uni in uni_list]\n",
    "\n",
    "    # Construct empty choices list - we will iterate through the\n",
    "    # list of universities from highest to lowest number of publications\n",
    "    # We'll normalize each one and then try to match it to the choices list\n",
    "    #\n",
    "    # If the normalized name is not in the choices list (i.e. there is\n",
    "    # no match), we'll add it so that future universities can be matched to it\n",
    "    # and map the original name to the normalized name\n",
    "    #\n",
    "    # If the normalized name is in the choices list, we'll map the original\n",
    "    # name to the normalized name\n",
    "    choices = []\n",
    "    bad_to_good = collections.OrderedDict()\n",
    "    for item, normalized_item in uni_list_norm:\n",
    "\n",
    "        # if normalized name has cardinal directions in it or \"washington\", skip it\n",
    "        if re.search(r'(north)|(south)|(east)|(west)|(central)|(washington)|(medical college)|(atlantic)|(commonwealth)|(children)|(illinois)|(atlantic)|(florida state)|(michigan state)|(mayo)|(york hospital)|(university college london)|(loyola)', normalized_item):\n",
    "            bad_to_good[item] = normalized_item\n",
    "            choices.append(normalized_item)\n",
    "            continue\n",
    "\n",
    "        potential_match = process.extractOne(normalized_item, choices)\n",
    "\n",
    "        if not potential_match or potential_match[1] < 90:\n",
    "            bad_to_good[item] = normalized_item\n",
    "            choices.append(normalized_item)\n",
    "        else:\n",
    "            bad_to_good[item] = potential_match[0]\n",
    "\n",
    "    # Now that we have a mapping of original name to normalized name\n",
    "    # we can count the number of publications for each normalized name\n",
    "    norm_counts = collections.defaultdict(int)\n",
    "    for uni, norm in bad_to_good.items():\n",
    "        norm_counts[norm] += uni_to_pub[uni]\n",
    "\n",
    "    # Now we can go through the list of universities again and get the\n",
    "    # normalized name from the bad_to_good mapping and add the number of\n",
    "    # publications to the final map.\n",
    "    #\n",
    "    # Once we see a normalized name we'll add it to the seen_norms set\n",
    "    # so that we don't double count and we'll assign the total number\n",
    "    # of normalized publications to the most common name for that\n",
    "    # university pre-normalization.\n",
    "    #\n",
    "    # Example - if we have Hospital of University of Pennsylvania (100) and\n",
    "    # University of Pennsylvania Hospital (90), we'll assign the total number\n",
    "    # of publications to Hospital of University of Pennsylvania (190) and\n",
    "    # skip University of Pennsylvania Hospital (as they normalize to the same\n",
    "    # thing)\n",
    "\n",
    "    final_map = collections.defaultdict(int)\n",
    "    norm_to_first_good_name = {}\n",
    "    seen_norms = set()\n",
    "    for uni in uni_list:\n",
    "        norm = bad_to_good[uni]\n",
    "        if norm not in seen_norms:\n",
    "            norm_to_first_good_name[norm] = uni\n",
    "            final_map[uni] += norm_counts[norm]\n",
    "            seen_norms.add(norm)\n",
    "\n",
    "    # print(norm_to_first_good_name)\n",
    "\n",
    "    return {bad: norm_to_first_good_name.get(norm, None) for bad, norm in bad_to_good.items()}\n",
    "\n",
    "\n",
    "\n",
    "l = df_institutions['smart_institution2'].to_list()\n",
    "d = dict(zip(df_institutions['smart_institution2'], df_institutions['count']))\n",
    "\n",
    "bad_to_good = process_unis(l, d)\n",
    "\n",
    "\n",
    "\n",
    "\n",
    "\n"
   ]
  },
  {
   "cell_type": "code",
   "execution_count": 29,
   "metadata": {},
   "outputs": [],
   "source": [
    "df_bg = pd.DataFrame(bad_to_good.items(), columns=['smart_institution2', 'smart_institution3'])\n",
    "# df_bg.to_csv('maps.csv')"
   ]
  },
  {
   "attachments": {},
   "cell_type": "markdown",
   "metadata": {},
   "source": [
    "### Manual Cleaning\n",
    "\n",
    "Here we will do manual string replacement for UCLA and Northwestern as this merge will have implications in the top 20. "
   ]
  },
  {
   "cell_type": "code",
   "execution_count": 30,
   "metadata": {},
   "outputs": [],
   "source": [
    "df3 = df2.merge(df_bg, on='smart_institution2')\n",
    "df3['smart_institution3'].replace(['David Geffen School Of Medicine', 'Feinberg School Of Medicine - Northwestern University'], ['University Of California - Los Angeles', 'Northwestern University'], inplace=True)\n"
   ]
  },
  {
   "cell_type": "code",
   "execution_count": 31,
   "metadata": {},
   "outputs": [
    {
     "data": {
      "application/vnd.plotly.v1+json": {
       "config": {
        "plotlyServerURL": "https://plot.ly"
       },
       "data": [
        {
         "alignmentgroup": "True",
         "hovertemplate": "smart_institution3=%{x}<br>count=%{text}<extra></extra>",
         "legendgroup": "",
         "marker": {
          "color": "#636efa",
          "pattern": {
           "shape": ""
          }
         },
         "name": "",
         "offsetgroup": "",
         "orientation": "v",
         "showlegend": false,
         "text": [
          509,
          382,
          216,
          215,
          202,
          197,
          185,
          176,
          175,
          167,
          167,
          166,
          163,
          161,
          157,
          154,
          151,
          144,
          138,
          137
         ],
         "textangle": 0,
         "textfont": {
          "size": 18
         },
         "textposition": "auto",
         "type": "bar",
         "x": [
          "University Of Alabama At Birmingham",
          "University Of Michigan",
          "Hospital Of The University Of Pennsylvania",
          "University Of Wisconsin",
          "Johns Hopkins University School Of Medicine",
          "University Of California - Los Angeles",
          "Stanford University",
          "Brigham And Women'S Hospital",
          "University Of Miami",
          "Yale University School Of Medicine",
          "Massachusetts General Hospital",
          "University Of Florida",
          "Indiana University School Of Medicine",
          "University Of Pittsburgh",
          "Ohio State University",
          "Northwestern University",
          "University Of Texas Southwestern Medical Center",
          "University Of Arizona",
          "Medical College Of Wisconsin",
          "University Of Colorado Denver"
         ],
         "xaxis": "x",
         "y": [
          509,
          382,
          216,
          215,
          202,
          197,
          185,
          176,
          175,
          167,
          167,
          166,
          163,
          161,
          157,
          154,
          151,
          144,
          138,
          137
         ],
         "yaxis": "y"
        }
       ],
       "layout": {
        "barmode": "relative",
        "font": {
         "family": "Inter",
         "size": 16
        },
        "height": 800,
        "legend": {
         "tracegroupgap": 0
        },
        "margin": {
         "t": 60
        },
        "template": {
         "data": {
          "bar": [
           {
            "error_x": {
             "color": "#2a3f5f"
            },
            "error_y": {
             "color": "#2a3f5f"
            },
            "marker": {
             "line": {
              "color": "#E5ECF6",
              "width": 0.5
             },
             "pattern": {
              "fillmode": "overlay",
              "size": 10,
              "solidity": 0.2
             }
            },
            "type": "bar"
           }
          ],
          "barpolar": [
           {
            "marker": {
             "line": {
              "color": "#E5ECF6",
              "width": 0.5
             },
             "pattern": {
              "fillmode": "overlay",
              "size": 10,
              "solidity": 0.2
             }
            },
            "type": "barpolar"
           }
          ],
          "carpet": [
           {
            "aaxis": {
             "endlinecolor": "#2a3f5f",
             "gridcolor": "white",
             "linecolor": "white",
             "minorgridcolor": "white",
             "startlinecolor": "#2a3f5f"
            },
            "baxis": {
             "endlinecolor": "#2a3f5f",
             "gridcolor": "white",
             "linecolor": "white",
             "minorgridcolor": "white",
             "startlinecolor": "#2a3f5f"
            },
            "type": "carpet"
           }
          ],
          "choropleth": [
           {
            "colorbar": {
             "outlinewidth": 0,
             "ticks": ""
            },
            "type": "choropleth"
           }
          ],
          "contour": [
           {
            "colorbar": {
             "outlinewidth": 0,
             "ticks": ""
            },
            "colorscale": [
             [
              0,
              "#0d0887"
             ],
             [
              0.1111111111111111,
              "#46039f"
             ],
             [
              0.2222222222222222,
              "#7201a8"
             ],
             [
              0.3333333333333333,
              "#9c179e"
             ],
             [
              0.4444444444444444,
              "#bd3786"
             ],
             [
              0.5555555555555556,
              "#d8576b"
             ],
             [
              0.6666666666666666,
              "#ed7953"
             ],
             [
              0.7777777777777778,
              "#fb9f3a"
             ],
             [
              0.8888888888888888,
              "#fdca26"
             ],
             [
              1,
              "#f0f921"
             ]
            ],
            "type": "contour"
           }
          ],
          "contourcarpet": [
           {
            "colorbar": {
             "outlinewidth": 0,
             "ticks": ""
            },
            "type": "contourcarpet"
           }
          ],
          "heatmap": [
           {
            "colorbar": {
             "outlinewidth": 0,
             "ticks": ""
            },
            "colorscale": [
             [
              0,
              "#0d0887"
             ],
             [
              0.1111111111111111,
              "#46039f"
             ],
             [
              0.2222222222222222,
              "#7201a8"
             ],
             [
              0.3333333333333333,
              "#9c179e"
             ],
             [
              0.4444444444444444,
              "#bd3786"
             ],
             [
              0.5555555555555556,
              "#d8576b"
             ],
             [
              0.6666666666666666,
              "#ed7953"
             ],
             [
              0.7777777777777778,
              "#fb9f3a"
             ],
             [
              0.8888888888888888,
              "#fdca26"
             ],
             [
              1,
              "#f0f921"
             ]
            ],
            "type": "heatmap"
           }
          ],
          "heatmapgl": [
           {
            "colorbar": {
             "outlinewidth": 0,
             "ticks": ""
            },
            "colorscale": [
             [
              0,
              "#0d0887"
             ],
             [
              0.1111111111111111,
              "#46039f"
             ],
             [
              0.2222222222222222,
              "#7201a8"
             ],
             [
              0.3333333333333333,
              "#9c179e"
             ],
             [
              0.4444444444444444,
              "#bd3786"
             ],
             [
              0.5555555555555556,
              "#d8576b"
             ],
             [
              0.6666666666666666,
              "#ed7953"
             ],
             [
              0.7777777777777778,
              "#fb9f3a"
             ],
             [
              0.8888888888888888,
              "#fdca26"
             ],
             [
              1,
              "#f0f921"
             ]
            ],
            "type": "heatmapgl"
           }
          ],
          "histogram": [
           {
            "marker": {
             "pattern": {
              "fillmode": "overlay",
              "size": 10,
              "solidity": 0.2
             }
            },
            "type": "histogram"
           }
          ],
          "histogram2d": [
           {
            "colorbar": {
             "outlinewidth": 0,
             "ticks": ""
            },
            "colorscale": [
             [
              0,
              "#0d0887"
             ],
             [
              0.1111111111111111,
              "#46039f"
             ],
             [
              0.2222222222222222,
              "#7201a8"
             ],
             [
              0.3333333333333333,
              "#9c179e"
             ],
             [
              0.4444444444444444,
              "#bd3786"
             ],
             [
              0.5555555555555556,
              "#d8576b"
             ],
             [
              0.6666666666666666,
              "#ed7953"
             ],
             [
              0.7777777777777778,
              "#fb9f3a"
             ],
             [
              0.8888888888888888,
              "#fdca26"
             ],
             [
              1,
              "#f0f921"
             ]
            ],
            "type": "histogram2d"
           }
          ],
          "histogram2dcontour": [
           {
            "colorbar": {
             "outlinewidth": 0,
             "ticks": ""
            },
            "colorscale": [
             [
              0,
              "#0d0887"
             ],
             [
              0.1111111111111111,
              "#46039f"
             ],
             [
              0.2222222222222222,
              "#7201a8"
             ],
             [
              0.3333333333333333,
              "#9c179e"
             ],
             [
              0.4444444444444444,
              "#bd3786"
             ],
             [
              0.5555555555555556,
              "#d8576b"
             ],
             [
              0.6666666666666666,
              "#ed7953"
             ],
             [
              0.7777777777777778,
              "#fb9f3a"
             ],
             [
              0.8888888888888888,
              "#fdca26"
             ],
             [
              1,
              "#f0f921"
             ]
            ],
            "type": "histogram2dcontour"
           }
          ],
          "mesh3d": [
           {
            "colorbar": {
             "outlinewidth": 0,
             "ticks": ""
            },
            "type": "mesh3d"
           }
          ],
          "parcoords": [
           {
            "line": {
             "colorbar": {
              "outlinewidth": 0,
              "ticks": ""
             }
            },
            "type": "parcoords"
           }
          ],
          "pie": [
           {
            "automargin": true,
            "type": "pie"
           }
          ],
          "scatter": [
           {
            "fillpattern": {
             "fillmode": "overlay",
             "size": 10,
             "solidity": 0.2
            },
            "type": "scatter"
           }
          ],
          "scatter3d": [
           {
            "line": {
             "colorbar": {
              "outlinewidth": 0,
              "ticks": ""
             }
            },
            "marker": {
             "colorbar": {
              "outlinewidth": 0,
              "ticks": ""
             }
            },
            "type": "scatter3d"
           }
          ],
          "scattercarpet": [
           {
            "marker": {
             "colorbar": {
              "outlinewidth": 0,
              "ticks": ""
             }
            },
            "type": "scattercarpet"
           }
          ],
          "scattergeo": [
           {
            "marker": {
             "colorbar": {
              "outlinewidth": 0,
              "ticks": ""
             }
            },
            "type": "scattergeo"
           }
          ],
          "scattergl": [
           {
            "marker": {
             "colorbar": {
              "outlinewidth": 0,
              "ticks": ""
             }
            },
            "type": "scattergl"
           }
          ],
          "scattermapbox": [
           {
            "marker": {
             "colorbar": {
              "outlinewidth": 0,
              "ticks": ""
             }
            },
            "type": "scattermapbox"
           }
          ],
          "scatterpolar": [
           {
            "marker": {
             "colorbar": {
              "outlinewidth": 0,
              "ticks": ""
             }
            },
            "type": "scatterpolar"
           }
          ],
          "scatterpolargl": [
           {
            "marker": {
             "colorbar": {
              "outlinewidth": 0,
              "ticks": ""
             }
            },
            "type": "scatterpolargl"
           }
          ],
          "scatterternary": [
           {
            "marker": {
             "colorbar": {
              "outlinewidth": 0,
              "ticks": ""
             }
            },
            "type": "scatterternary"
           }
          ],
          "surface": [
           {
            "colorbar": {
             "outlinewidth": 0,
             "ticks": ""
            },
            "colorscale": [
             [
              0,
              "#0d0887"
             ],
             [
              0.1111111111111111,
              "#46039f"
             ],
             [
              0.2222222222222222,
              "#7201a8"
             ],
             [
              0.3333333333333333,
              "#9c179e"
             ],
             [
              0.4444444444444444,
              "#bd3786"
             ],
             [
              0.5555555555555556,
              "#d8576b"
             ],
             [
              0.6666666666666666,
              "#ed7953"
             ],
             [
              0.7777777777777778,
              "#fb9f3a"
             ],
             [
              0.8888888888888888,
              "#fdca26"
             ],
             [
              1,
              "#f0f921"
             ]
            ],
            "type": "surface"
           }
          ],
          "table": [
           {
            "cells": {
             "fill": {
              "color": "#EBF0F8"
             },
             "line": {
              "color": "white"
             }
            },
            "header": {
             "fill": {
              "color": "#C8D4E3"
             },
             "line": {
              "color": "white"
             }
            },
            "type": "table"
           }
          ]
         },
         "layout": {
          "annotationdefaults": {
           "arrowcolor": "#2a3f5f",
           "arrowhead": 0,
           "arrowwidth": 1
          },
          "autotypenumbers": "strict",
          "coloraxis": {
           "colorbar": {
            "outlinewidth": 0,
            "ticks": ""
           }
          },
          "colorscale": {
           "diverging": [
            [
             0,
             "#8e0152"
            ],
            [
             0.1,
             "#c51b7d"
            ],
            [
             0.2,
             "#de77ae"
            ],
            [
             0.3,
             "#f1b6da"
            ],
            [
             0.4,
             "#fde0ef"
            ],
            [
             0.5,
             "#f7f7f7"
            ],
            [
             0.6,
             "#e6f5d0"
            ],
            [
             0.7,
             "#b8e186"
            ],
            [
             0.8,
             "#7fbc41"
            ],
            [
             0.9,
             "#4d9221"
            ],
            [
             1,
             "#276419"
            ]
           ],
           "sequential": [
            [
             0,
             "#0d0887"
            ],
            [
             0.1111111111111111,
             "#46039f"
            ],
            [
             0.2222222222222222,
             "#7201a8"
            ],
            [
             0.3333333333333333,
             "#9c179e"
            ],
            [
             0.4444444444444444,
             "#bd3786"
            ],
            [
             0.5555555555555556,
             "#d8576b"
            ],
            [
             0.6666666666666666,
             "#ed7953"
            ],
            [
             0.7777777777777778,
             "#fb9f3a"
            ],
            [
             0.8888888888888888,
             "#fdca26"
            ],
            [
             1,
             "#f0f921"
            ]
           ],
           "sequentialminus": [
            [
             0,
             "#0d0887"
            ],
            [
             0.1111111111111111,
             "#46039f"
            ],
            [
             0.2222222222222222,
             "#7201a8"
            ],
            [
             0.3333333333333333,
             "#9c179e"
            ],
            [
             0.4444444444444444,
             "#bd3786"
            ],
            [
             0.5555555555555556,
             "#d8576b"
            ],
            [
             0.6666666666666666,
             "#ed7953"
            ],
            [
             0.7777777777777778,
             "#fb9f3a"
            ],
            [
             0.8888888888888888,
             "#fdca26"
            ],
            [
             1,
             "#f0f921"
            ]
           ]
          },
          "colorway": [
           "#636efa",
           "#EF553B",
           "#00cc96",
           "#ab63fa",
           "#FFA15A",
           "#19d3f3",
           "#FF6692",
           "#B6E880",
           "#FF97FF",
           "#FECB52"
          ],
          "font": {
           "color": "#2a3f5f"
          },
          "geo": {
           "bgcolor": "white",
           "lakecolor": "white",
           "landcolor": "#E5ECF6",
           "showlakes": true,
           "showland": true,
           "subunitcolor": "white"
          },
          "hoverlabel": {
           "align": "left"
          },
          "hovermode": "closest",
          "mapbox": {
           "style": "light"
          },
          "paper_bgcolor": "white",
          "plot_bgcolor": "#E5ECF6",
          "polar": {
           "angularaxis": {
            "gridcolor": "white",
            "linecolor": "white",
            "ticks": ""
           },
           "bgcolor": "#E5ECF6",
           "radialaxis": {
            "gridcolor": "white",
            "linecolor": "white",
            "ticks": ""
           }
          },
          "scene": {
           "xaxis": {
            "backgroundcolor": "#E5ECF6",
            "gridcolor": "white",
            "gridwidth": 2,
            "linecolor": "white",
            "showbackground": true,
            "ticks": "",
            "zerolinecolor": "white"
           },
           "yaxis": {
            "backgroundcolor": "#E5ECF6",
            "gridcolor": "white",
            "gridwidth": 2,
            "linecolor": "white",
            "showbackground": true,
            "ticks": "",
            "zerolinecolor": "white"
           },
           "zaxis": {
            "backgroundcolor": "#E5ECF6",
            "gridcolor": "white",
            "gridwidth": 2,
            "linecolor": "white",
            "showbackground": true,
            "ticks": "",
            "zerolinecolor": "white"
           }
          },
          "shapedefaults": {
           "line": {
            "color": "#2a3f5f"
           }
          },
          "ternary": {
           "aaxis": {
            "gridcolor": "white",
            "linecolor": "white",
            "ticks": ""
           },
           "baxis": {
            "gridcolor": "white",
            "linecolor": "white",
            "ticks": ""
           },
           "bgcolor": "#E5ECF6",
           "caxis": {
            "gridcolor": "white",
            "linecolor": "white",
            "ticks": ""
           }
          },
          "title": {
           "x": 0.05
          },
          "xaxis": {
           "automargin": true,
           "gridcolor": "white",
           "linecolor": "white",
           "ticks": "",
           "title": {
            "standoff": 15
           },
           "zerolinecolor": "white",
           "zerolinewidth": 2
          },
          "yaxis": {
           "automargin": true,
           "gridcolor": "white",
           "linecolor": "white",
           "ticks": "",
           "title": {
            "standoff": 15
           },
           "zerolinecolor": "white",
           "zerolinewidth": 2
          }
         }
        },
        "width": 1400,
        "xaxis": {
         "anchor": "y",
         "domain": [
          0,
          1
         ],
         "title": {
          "text": "smart_institution3"
         }
        },
        "yaxis": {
         "anchor": "x",
         "domain": [
          0,
          1
         ],
         "showticklabels": false,
         "title": {
          "text": "count"
         }
        }
       }
      }
     },
     "metadata": {},
     "output_type": "display_data"
    }
   ],
   "source": [
    "df_institution_rank = df3.groupby(['smart_institution3']).agg(\n",
    "    count = ('control_number', 'nunique')\n",
    ")\n",
    "\n",
    "\n",
    "df_institution_rank.reset_index(inplace=True)\n",
    "df_institution_rank.sort_values(by='count', ascending=False, inplace=True)\n",
    "\n",
    "institution_subset = df_institution_rank['smart_institution3'].to_list()[:20]\n",
    "\n",
    "\n",
    "fig = px.bar(df_institution_rank[0:20], x='smart_institution3', y='count', text='count',\n",
    "labels = dict(total_count = 'Total Abstracts (2016-2023)'))\n",
    "\n",
    "\n",
    "fig.update_layout(\n",
    "    width=1400,\n",
    "    height=800,\n",
    "    font=dict(\n",
    "        family=\"Inter\",\n",
    "        size=16))\n",
    "\n",
    "\n",
    "fig.update_traces(textfont_size=18, textangle=0, textposition='auto')\n",
    "\n",
    "\n",
    "# fig.update_xaxes(showticklabels=False)\n",
    "fig.update_yaxes(showticklabels=False)\n",
    "fig.show()\n",
    "\n",
    "# fig.write_image('ranks.svg')\n",
    "\n"
   ]
  },
  {
   "attachments": {},
   "cell_type": "markdown",
   "metadata": {},
   "source": [
    "### Number of Abstracts By Institution and Year\n",
    "\n",
    "Here, we calculate the number of abstracts by institution during each year to look at trends over time"
   ]
  },
  {
   "cell_type": "code",
   "execution_count": 32,
   "metadata": {},
   "outputs": [
    {
     "name": "stderr",
     "output_type": "stream",
     "text": [
      "/var/folders/tc/rrbf67xd4h98qrpph8v1h9c00000gn/T/ipykernel_26514/1531731290.py:8: SettingWithCopyWarning:\n",
      "\n",
      "\n",
      "A value is trying to be set on a copy of a slice from a DataFrame\n",
      "\n",
      "See the caveats in the documentation: https://pandas.pydata.org/pandas-docs/stable/user_guide/indexing.html#returning-a-view-versus-a-copy\n",
      "\n"
     ]
    }
   ],
   "source": [
    "df_institution_year_rank = df3.groupby(['smart_institution3', 'year']).agg(\n",
    "    count = ('control_number', 'nunique')\n",
    ")\n",
    "\n",
    "df_institution_year_rank.reset_index(inplace=True)\n",
    "\n",
    "df_subset = df_institution_year_rank[df_institution_year_rank['smart_institution3'].isin(institution_subset)]\n",
    "df_subset.sort_values(by=['year', 'count'], ascending=False, inplace=True)"
   ]
  },
  {
   "cell_type": "code",
   "execution_count": 33,
   "metadata": {},
   "outputs": [
    {
     "data": {
      "application/vnd.plotly.v1+json": {
       "config": {
        "plotlyServerURL": "https://plot.ly"
       },
       "data": [
        {
         "hovertemplate": "smart_institution3=University Of Alabama At Birmingham<br>=%{x}<br>Number of Abstracts=%{y}<extra></extra>",
         "legendgroup": "University Of Alabama At Birmingham",
         "line": {
          "color": "#636efa",
          "dash": "solid",
          "width": 5
         },
         "marker": {
          "symbol": "circle"
         },
         "mode": "lines",
         "name": "University Of Alabama At Birmingham",
         "orientation": "v",
         "showlegend": true,
         "type": "scatter",
         "x": [
          2023,
          2022,
          2021,
          2020,
          2019,
          2018,
          2017,
          2016
         ],
         "xaxis": "x",
         "y": [
          73,
          68,
          68,
          94,
          67,
          66,
          58,
          15
         ],
         "yaxis": "y"
        },
        {
         "hovertemplate": "smart_institution3=University Of Michigan<br>=%{x}<br>Number of Abstracts=%{y}<extra></extra>",
         "legendgroup": "University Of Michigan",
         "line": {
          "color": "#EF553B",
          "dash": "solid",
          "width": 5
         },
         "marker": {
          "symbol": "circle"
         },
         "mode": "lines",
         "name": "University Of Michigan",
         "orientation": "v",
         "showlegend": true,
         "type": "scatter",
         "x": [
          2023,
          2022,
          2021,
          2020,
          2019,
          2018,
          2017,
          2016
         ],
         "xaxis": "x",
         "y": [
          52,
          44,
          39,
          47,
          52,
          50,
          56,
          42
         ],
         "yaxis": "y"
        },
        {
         "hovertemplate": "smart_institution3=University Of California - Los Angeles<br>=%{x}<br>Number of Abstracts=%{y}<extra></extra>",
         "legendgroup": "University Of California - Los Angeles",
         "line": {
          "color": "#00cc96",
          "dash": "solid",
          "width": 5
         },
         "marker": {
          "symbol": "circle"
         },
         "mode": "lines",
         "name": "University Of California - Los Angeles",
         "orientation": "v",
         "showlegend": true,
         "type": "scatter",
         "x": [
          2023,
          2022,
          2021,
          2020,
          2019,
          2018,
          2017,
          2016
         ],
         "xaxis": "x",
         "y": [
          37,
          27,
          20,
          25,
          28,
          21,
          31,
          8
         ],
         "yaxis": "y"
        },
        {
         "hovertemplate": "smart_institution3=Hospital Of The University Of Pennsylvania<br>=%{x}<br>Number of Abstracts=%{y}<extra></extra>",
         "legendgroup": "Hospital Of The University Of Pennsylvania",
         "line": {
          "color": "#ab63fa",
          "dash": "solid",
          "width": 5
         },
         "marker": {
          "symbol": "circle"
         },
         "mode": "lines",
         "name": "Hospital Of The University Of Pennsylvania",
         "orientation": "v",
         "showlegend": true,
         "type": "scatter",
         "x": [
          2023,
          2022,
          2021,
          2020,
          2019,
          2018,
          2017,
          2016
         ],
         "xaxis": "x",
         "y": [
          35,
          18,
          24,
          28,
          23,
          24,
          34,
          30
         ],
         "yaxis": "y"
        },
        {
         "hovertemplate": "smart_institution3=Massachusetts General Hospital<br>=%{x}<br>Number of Abstracts=%{y}<extra></extra>",
         "legendgroup": "Massachusetts General Hospital",
         "line": {
          "color": "#FFA15A",
          "dash": "solid",
          "width": 5
         },
         "marker": {
          "symbol": "circle"
         },
         "mode": "lines",
         "name": "Massachusetts General Hospital",
         "orientation": "v",
         "showlegend": true,
         "type": "scatter",
         "x": [
          2023,
          2022,
          2021,
          2020,
          2019,
          2018,
          2017,
          2016
         ],
         "xaxis": "x",
         "y": [
          35,
          7,
          11,
          27,
          25,
          15,
          24,
          23
         ],
         "yaxis": "y"
        },
        {
         "hovertemplate": "smart_institution3=Northwestern University<br>=%{x}<br>Number of Abstracts=%{y}<extra></extra>",
         "legendgroup": "Northwestern University",
         "line": {
          "color": "#19d3f3",
          "dash": "solid",
          "width": 5
         },
         "marker": {
          "symbol": "circle"
         },
         "mode": "lines",
         "name": "Northwestern University",
         "orientation": "v",
         "showlegend": true,
         "type": "scatter",
         "x": [
          2023,
          2022,
          2021,
          2020,
          2019,
          2018,
          2017,
          2016
         ],
         "xaxis": "x",
         "y": [
          28,
          15,
          15,
          27,
          23,
          20,
          17,
          9
         ],
         "yaxis": "y"
        },
        {
         "hovertemplate": "smart_institution3=Stanford University<br>=%{x}<br>Number of Abstracts=%{y}<extra></extra>",
         "legendgroup": "Stanford University",
         "line": {
          "color": "#FF6692",
          "dash": "solid",
          "width": 5
         },
         "marker": {
          "symbol": "circle"
         },
         "mode": "lines",
         "name": "Stanford University",
         "orientation": "v",
         "showlegend": true,
         "type": "scatter",
         "x": [
          2023,
          2022,
          2021,
          2020,
          2019,
          2018,
          2017,
          2016
         ],
         "xaxis": "x",
         "y": [
          28,
          13,
          13,
          26,
          27,
          23,
          31,
          24
         ],
         "yaxis": "y"
        },
        {
         "hovertemplate": "smart_institution3=University Of Pittsburgh<br>=%{x}<br>Number of Abstracts=%{y}<extra></extra>",
         "legendgroup": "University Of Pittsburgh",
         "line": {
          "color": "#B6E880",
          "dash": "solid",
          "width": 5
         },
         "marker": {
          "symbol": "circle"
         },
         "mode": "lines",
         "name": "University Of Pittsburgh",
         "orientation": "v",
         "showlegend": true,
         "type": "scatter",
         "x": [
          2023,
          2022,
          2021,
          2020,
          2019,
          2018,
          2017,
          2016
         ],
         "xaxis": "x",
         "y": [
          25,
          18,
          9,
          27,
          21,
          21,
          23,
          17
         ],
         "yaxis": "y"
        },
        {
         "hovertemplate": "smart_institution3=Ohio State University<br>=%{x}<br>Number of Abstracts=%{y}<extra></extra>",
         "legendgroup": "Ohio State University",
         "line": {
          "color": "#FF97FF",
          "dash": "solid",
          "width": 5
         },
         "marker": {
          "symbol": "circle"
         },
         "mode": "lines",
         "name": "Ohio State University",
         "orientation": "v",
         "showlegend": true,
         "type": "scatter",
         "x": [
          2023,
          2022,
          2021,
          2020,
          2019,
          2018,
          2017,
          2016
         ],
         "xaxis": "x",
         "y": [
          23,
          11,
          13,
          35,
          27,
          29,
          11,
          8
         ],
         "yaxis": "y"
        },
        {
         "hovertemplate": "smart_institution3=University Of Arizona<br>=%{x}<br>Number of Abstracts=%{y}<extra></extra>",
         "legendgroup": "University Of Arizona",
         "line": {
          "color": "#FECB52",
          "dash": "solid",
          "width": 5
         },
         "marker": {
          "symbol": "circle"
         },
         "mode": "lines",
         "name": "University Of Arizona",
         "orientation": "v",
         "showlegend": true,
         "type": "scatter",
         "x": [
          2023,
          2022,
          2021,
          2020,
          2019,
          2018,
          2017,
          2016
         ],
         "xaxis": "x",
         "y": [
          23,
          13,
          11,
          16,
          20,
          21,
          18,
          22
         ],
         "yaxis": "y"
        },
        {
         "hovertemplate": "smart_institution3=Indiana University School Of Medicine<br>=%{x}<br>Number of Abstracts=%{y}<extra></extra>",
         "legendgroup": "Indiana University School Of Medicine",
         "line": {
          "color": "#636efa",
          "dash": "solid",
          "width": 5
         },
         "marker": {
          "symbol": "circle"
         },
         "mode": "lines",
         "name": "Indiana University School Of Medicine",
         "orientation": "v",
         "showlegend": true,
         "type": "scatter",
         "x": [
          2023,
          2022,
          2021,
          2020,
          2019,
          2018,
          2017,
          2016
         ],
         "xaxis": "x",
         "y": [
          22,
          11,
          11,
          25,
          28,
          27,
          15,
          24
         ],
         "yaxis": "y"
        },
        {
         "hovertemplate": "smart_institution3=University Of Colorado Denver<br>=%{x}<br>Number of Abstracts=%{y}<extra></extra>",
         "legendgroup": "University Of Colorado Denver",
         "line": {
          "color": "#EF553B",
          "dash": "solid",
          "width": 5
         },
         "marker": {
          "symbol": "circle"
         },
         "mode": "lines",
         "name": "University Of Colorado Denver",
         "orientation": "v",
         "showlegend": true,
         "type": "scatter",
         "x": [
          2023,
          2022,
          2021,
          2020,
          2019,
          2018,
          2017,
          2016
         ],
         "xaxis": "x",
         "y": [
          22,
          17,
          12,
          20,
          24,
          15,
          16,
          11
         ],
         "yaxis": "y"
        },
        {
         "hovertemplate": "smart_institution3=University Of Florida<br>=%{x}<br>Number of Abstracts=%{y}<extra></extra>",
         "legendgroup": "University Of Florida",
         "line": {
          "color": "#00cc96",
          "dash": "solid",
          "width": 5
         },
         "marker": {
          "symbol": "circle"
         },
         "mode": "lines",
         "name": "University Of Florida",
         "orientation": "v",
         "showlegend": true,
         "type": "scatter",
         "x": [
          2023,
          2022,
          2021,
          2020,
          2019,
          2018,
          2017,
          2016
         ],
         "xaxis": "x",
         "y": [
          22,
          20,
          10,
          37,
          16,
          29,
          17,
          15
         ],
         "yaxis": "y"
        },
        {
         "hovertemplate": "smart_institution3=University Of Texas Southwestern Medical Center<br>=%{x}<br>Number of Abstracts=%{y}<extra></extra>",
         "legendgroup": "University Of Texas Southwestern Medical Center",
         "line": {
          "color": "#ab63fa",
          "dash": "solid",
          "width": 5
         },
         "marker": {
          "symbol": "circle"
         },
         "mode": "lines",
         "name": "University Of Texas Southwestern Medical Center",
         "orientation": "v",
         "showlegend": true,
         "type": "scatter",
         "x": [
          2023,
          2022,
          2021,
          2020,
          2019,
          2018,
          2017,
          2016
         ],
         "xaxis": "x",
         "y": [
          21,
          13,
          14,
          28,
          21,
          20,
          24,
          10
         ],
         "yaxis": "y"
        },
        {
         "hovertemplate": "smart_institution3=University Of Miami<br>=%{x}<br>Number of Abstracts=%{y}<extra></extra>",
         "legendgroup": "University Of Miami",
         "line": {
          "color": "#FFA15A",
          "dash": "solid",
          "width": 5
         },
         "marker": {
          "symbol": "circle"
         },
         "mode": "lines",
         "name": "University Of Miami",
         "orientation": "v",
         "showlegend": true,
         "type": "scatter",
         "x": [
          2023,
          2022,
          2021,
          2020,
          2019,
          2018,
          2017,
          2016
         ],
         "xaxis": "x",
         "y": [
          19,
          15,
          16,
          27,
          25,
          30,
          35,
          8
         ],
         "yaxis": "y"
        },
        {
         "hovertemplate": "smart_institution3=Brigham And Women'S Hospital<br>=%{x}<br>Number of Abstracts=%{y}<extra></extra>",
         "legendgroup": "Brigham And Women'S Hospital",
         "line": {
          "color": "#19d3f3",
          "dash": "solid",
          "width": 5
         },
         "marker": {
          "symbol": "circle"
         },
         "mode": "lines",
         "name": "Brigham And Women'S Hospital",
         "orientation": "v",
         "showlegend": true,
         "type": "scatter",
         "x": [
          2023,
          2022,
          2021,
          2020,
          2019,
          2018,
          2017,
          2016
         ],
         "xaxis": "x",
         "y": [
          18,
          3,
          13,
          24,
          34,
          33,
          17,
          34
         ],
         "yaxis": "y"
        },
        {
         "hovertemplate": "smart_institution3=Medical College Of Wisconsin<br>=%{x}<br>Number of Abstracts=%{y}<extra></extra>",
         "legendgroup": "Medical College Of Wisconsin",
         "line": {
          "color": "#FF6692",
          "dash": "solid",
          "width": 5
         },
         "marker": {
          "symbol": "circle"
         },
         "mode": "lines",
         "name": "Medical College Of Wisconsin",
         "orientation": "v",
         "showlegend": true,
         "type": "scatter",
         "x": [
          2023,
          2022,
          2021,
          2020,
          2019,
          2018,
          2017,
          2016
         ],
         "xaxis": "x",
         "y": [
          18,
          6,
          13,
          24,
          30,
          16,
          15,
          16
         ],
         "yaxis": "y"
        },
        {
         "hovertemplate": "smart_institution3=University Of Wisconsin<br>=%{x}<br>Number of Abstracts=%{y}<extra></extra>",
         "legendgroup": "University Of Wisconsin",
         "line": {
          "color": "#B6E880",
          "dash": "solid",
          "width": 5
         },
         "marker": {
          "symbol": "circle"
         },
         "mode": "lines",
         "name": "University Of Wisconsin",
         "orientation": "v",
         "showlegend": true,
         "type": "scatter",
         "x": [
          2023,
          2022,
          2021,
          2020,
          2019,
          2018,
          2017,
          2016
         ],
         "xaxis": "x",
         "y": [
          15,
          19,
          13,
          28,
          27,
          26,
          38,
          49
         ],
         "yaxis": "y"
        },
        {
         "hovertemplate": "smart_institution3=Yale University School Of Medicine<br>=%{x}<br>Number of Abstracts=%{y}<extra></extra>",
         "legendgroup": "Yale University School Of Medicine",
         "line": {
          "color": "#FF97FF",
          "dash": "solid",
          "width": 5
         },
         "marker": {
          "symbol": "circle"
         },
         "mode": "lines",
         "name": "Yale University School Of Medicine",
         "orientation": "v",
         "showlegend": true,
         "type": "scatter",
         "x": [
          2023,
          2022,
          2021,
          2020,
          2019,
          2018,
          2017,
          2016
         ],
         "xaxis": "x",
         "y": [
          15,
          4,
          9,
          26,
          34,
          32,
          22,
          25
         ],
         "yaxis": "y"
        },
        {
         "hovertemplate": "smart_institution3=Johns Hopkins University School Of Medicine<br>=%{x}<br>Number of Abstracts=%{y}<extra></extra>",
         "legendgroup": "Johns Hopkins University School Of Medicine",
         "line": {
          "color": "#FECB52",
          "dash": "solid",
          "width": 5
         },
         "marker": {
          "symbol": "circle"
         },
         "mode": "lines",
         "name": "Johns Hopkins University School Of Medicine",
         "orientation": "v",
         "showlegend": true,
         "type": "scatter",
         "x": [
          2023,
          2022,
          2021,
          2020,
          2019,
          2018,
          2017,
          2016
         ],
         "xaxis": "x",
         "y": [
          14,
          4,
          20,
          56,
          28,
          23,
          25,
          32
         ],
         "yaxis": "y"
        }
       ],
       "layout": {
        "font": {
         "family": "Inter",
         "size": 16
        },
        "height": 800,
        "legend": {
         "title": {
          "text": "smart_institution3"
         },
         "tracegroupgap": 0
        },
        "margin": {
         "t": 60
        },
        "template": {
         "data": {
          "bar": [
           {
            "error_x": {
             "color": "#2a3f5f"
            },
            "error_y": {
             "color": "#2a3f5f"
            },
            "marker": {
             "line": {
              "color": "#E5ECF6",
              "width": 0.5
             },
             "pattern": {
              "fillmode": "overlay",
              "size": 10,
              "solidity": 0.2
             }
            },
            "type": "bar"
           }
          ],
          "barpolar": [
           {
            "marker": {
             "line": {
              "color": "#E5ECF6",
              "width": 0.5
             },
             "pattern": {
              "fillmode": "overlay",
              "size": 10,
              "solidity": 0.2
             }
            },
            "type": "barpolar"
           }
          ],
          "carpet": [
           {
            "aaxis": {
             "endlinecolor": "#2a3f5f",
             "gridcolor": "white",
             "linecolor": "white",
             "minorgridcolor": "white",
             "startlinecolor": "#2a3f5f"
            },
            "baxis": {
             "endlinecolor": "#2a3f5f",
             "gridcolor": "white",
             "linecolor": "white",
             "minorgridcolor": "white",
             "startlinecolor": "#2a3f5f"
            },
            "type": "carpet"
           }
          ],
          "choropleth": [
           {
            "colorbar": {
             "outlinewidth": 0,
             "ticks": ""
            },
            "type": "choropleth"
           }
          ],
          "contour": [
           {
            "colorbar": {
             "outlinewidth": 0,
             "ticks": ""
            },
            "colorscale": [
             [
              0,
              "#0d0887"
             ],
             [
              0.1111111111111111,
              "#46039f"
             ],
             [
              0.2222222222222222,
              "#7201a8"
             ],
             [
              0.3333333333333333,
              "#9c179e"
             ],
             [
              0.4444444444444444,
              "#bd3786"
             ],
             [
              0.5555555555555556,
              "#d8576b"
             ],
             [
              0.6666666666666666,
              "#ed7953"
             ],
             [
              0.7777777777777778,
              "#fb9f3a"
             ],
             [
              0.8888888888888888,
              "#fdca26"
             ],
             [
              1,
              "#f0f921"
             ]
            ],
            "type": "contour"
           }
          ],
          "contourcarpet": [
           {
            "colorbar": {
             "outlinewidth": 0,
             "ticks": ""
            },
            "type": "contourcarpet"
           }
          ],
          "heatmap": [
           {
            "colorbar": {
             "outlinewidth": 0,
             "ticks": ""
            },
            "colorscale": [
             [
              0,
              "#0d0887"
             ],
             [
              0.1111111111111111,
              "#46039f"
             ],
             [
              0.2222222222222222,
              "#7201a8"
             ],
             [
              0.3333333333333333,
              "#9c179e"
             ],
             [
              0.4444444444444444,
              "#bd3786"
             ],
             [
              0.5555555555555556,
              "#d8576b"
             ],
             [
              0.6666666666666666,
              "#ed7953"
             ],
             [
              0.7777777777777778,
              "#fb9f3a"
             ],
             [
              0.8888888888888888,
              "#fdca26"
             ],
             [
              1,
              "#f0f921"
             ]
            ],
            "type": "heatmap"
           }
          ],
          "heatmapgl": [
           {
            "colorbar": {
             "outlinewidth": 0,
             "ticks": ""
            },
            "colorscale": [
             [
              0,
              "#0d0887"
             ],
             [
              0.1111111111111111,
              "#46039f"
             ],
             [
              0.2222222222222222,
              "#7201a8"
             ],
             [
              0.3333333333333333,
              "#9c179e"
             ],
             [
              0.4444444444444444,
              "#bd3786"
             ],
             [
              0.5555555555555556,
              "#d8576b"
             ],
             [
              0.6666666666666666,
              "#ed7953"
             ],
             [
              0.7777777777777778,
              "#fb9f3a"
             ],
             [
              0.8888888888888888,
              "#fdca26"
             ],
             [
              1,
              "#f0f921"
             ]
            ],
            "type": "heatmapgl"
           }
          ],
          "histogram": [
           {
            "marker": {
             "pattern": {
              "fillmode": "overlay",
              "size": 10,
              "solidity": 0.2
             }
            },
            "type": "histogram"
           }
          ],
          "histogram2d": [
           {
            "colorbar": {
             "outlinewidth": 0,
             "ticks": ""
            },
            "colorscale": [
             [
              0,
              "#0d0887"
             ],
             [
              0.1111111111111111,
              "#46039f"
             ],
             [
              0.2222222222222222,
              "#7201a8"
             ],
             [
              0.3333333333333333,
              "#9c179e"
             ],
             [
              0.4444444444444444,
              "#bd3786"
             ],
             [
              0.5555555555555556,
              "#d8576b"
             ],
             [
              0.6666666666666666,
              "#ed7953"
             ],
             [
              0.7777777777777778,
              "#fb9f3a"
             ],
             [
              0.8888888888888888,
              "#fdca26"
             ],
             [
              1,
              "#f0f921"
             ]
            ],
            "type": "histogram2d"
           }
          ],
          "histogram2dcontour": [
           {
            "colorbar": {
             "outlinewidth": 0,
             "ticks": ""
            },
            "colorscale": [
             [
              0,
              "#0d0887"
             ],
             [
              0.1111111111111111,
              "#46039f"
             ],
             [
              0.2222222222222222,
              "#7201a8"
             ],
             [
              0.3333333333333333,
              "#9c179e"
             ],
             [
              0.4444444444444444,
              "#bd3786"
             ],
             [
              0.5555555555555556,
              "#d8576b"
             ],
             [
              0.6666666666666666,
              "#ed7953"
             ],
             [
              0.7777777777777778,
              "#fb9f3a"
             ],
             [
              0.8888888888888888,
              "#fdca26"
             ],
             [
              1,
              "#f0f921"
             ]
            ],
            "type": "histogram2dcontour"
           }
          ],
          "mesh3d": [
           {
            "colorbar": {
             "outlinewidth": 0,
             "ticks": ""
            },
            "type": "mesh3d"
           }
          ],
          "parcoords": [
           {
            "line": {
             "colorbar": {
              "outlinewidth": 0,
              "ticks": ""
             }
            },
            "type": "parcoords"
           }
          ],
          "pie": [
           {
            "automargin": true,
            "type": "pie"
           }
          ],
          "scatter": [
           {
            "fillpattern": {
             "fillmode": "overlay",
             "size": 10,
             "solidity": 0.2
            },
            "type": "scatter"
           }
          ],
          "scatter3d": [
           {
            "line": {
             "colorbar": {
              "outlinewidth": 0,
              "ticks": ""
             }
            },
            "marker": {
             "colorbar": {
              "outlinewidth": 0,
              "ticks": ""
             }
            },
            "type": "scatter3d"
           }
          ],
          "scattercarpet": [
           {
            "marker": {
             "colorbar": {
              "outlinewidth": 0,
              "ticks": ""
             }
            },
            "type": "scattercarpet"
           }
          ],
          "scattergeo": [
           {
            "marker": {
             "colorbar": {
              "outlinewidth": 0,
              "ticks": ""
             }
            },
            "type": "scattergeo"
           }
          ],
          "scattergl": [
           {
            "marker": {
             "colorbar": {
              "outlinewidth": 0,
              "ticks": ""
             }
            },
            "type": "scattergl"
           }
          ],
          "scattermapbox": [
           {
            "marker": {
             "colorbar": {
              "outlinewidth": 0,
              "ticks": ""
             }
            },
            "type": "scattermapbox"
           }
          ],
          "scatterpolar": [
           {
            "marker": {
             "colorbar": {
              "outlinewidth": 0,
              "ticks": ""
             }
            },
            "type": "scatterpolar"
           }
          ],
          "scatterpolargl": [
           {
            "marker": {
             "colorbar": {
              "outlinewidth": 0,
              "ticks": ""
             }
            },
            "type": "scatterpolargl"
           }
          ],
          "scatterternary": [
           {
            "marker": {
             "colorbar": {
              "outlinewidth": 0,
              "ticks": ""
             }
            },
            "type": "scatterternary"
           }
          ],
          "surface": [
           {
            "colorbar": {
             "outlinewidth": 0,
             "ticks": ""
            },
            "colorscale": [
             [
              0,
              "#0d0887"
             ],
             [
              0.1111111111111111,
              "#46039f"
             ],
             [
              0.2222222222222222,
              "#7201a8"
             ],
             [
              0.3333333333333333,
              "#9c179e"
             ],
             [
              0.4444444444444444,
              "#bd3786"
             ],
             [
              0.5555555555555556,
              "#d8576b"
             ],
             [
              0.6666666666666666,
              "#ed7953"
             ],
             [
              0.7777777777777778,
              "#fb9f3a"
             ],
             [
              0.8888888888888888,
              "#fdca26"
             ],
             [
              1,
              "#f0f921"
             ]
            ],
            "type": "surface"
           }
          ],
          "table": [
           {
            "cells": {
             "fill": {
              "color": "#EBF0F8"
             },
             "line": {
              "color": "white"
             }
            },
            "header": {
             "fill": {
              "color": "#C8D4E3"
             },
             "line": {
              "color": "white"
             }
            },
            "type": "table"
           }
          ]
         },
         "layout": {
          "annotationdefaults": {
           "arrowcolor": "#2a3f5f",
           "arrowhead": 0,
           "arrowwidth": 1
          },
          "autotypenumbers": "strict",
          "coloraxis": {
           "colorbar": {
            "outlinewidth": 0,
            "ticks": ""
           }
          },
          "colorscale": {
           "diverging": [
            [
             0,
             "#8e0152"
            ],
            [
             0.1,
             "#c51b7d"
            ],
            [
             0.2,
             "#de77ae"
            ],
            [
             0.3,
             "#f1b6da"
            ],
            [
             0.4,
             "#fde0ef"
            ],
            [
             0.5,
             "#f7f7f7"
            ],
            [
             0.6,
             "#e6f5d0"
            ],
            [
             0.7,
             "#b8e186"
            ],
            [
             0.8,
             "#7fbc41"
            ],
            [
             0.9,
             "#4d9221"
            ],
            [
             1,
             "#276419"
            ]
           ],
           "sequential": [
            [
             0,
             "#0d0887"
            ],
            [
             0.1111111111111111,
             "#46039f"
            ],
            [
             0.2222222222222222,
             "#7201a8"
            ],
            [
             0.3333333333333333,
             "#9c179e"
            ],
            [
             0.4444444444444444,
             "#bd3786"
            ],
            [
             0.5555555555555556,
             "#d8576b"
            ],
            [
             0.6666666666666666,
             "#ed7953"
            ],
            [
             0.7777777777777778,
             "#fb9f3a"
            ],
            [
             0.8888888888888888,
             "#fdca26"
            ],
            [
             1,
             "#f0f921"
            ]
           ],
           "sequentialminus": [
            [
             0,
             "#0d0887"
            ],
            [
             0.1111111111111111,
             "#46039f"
            ],
            [
             0.2222222222222222,
             "#7201a8"
            ],
            [
             0.3333333333333333,
             "#9c179e"
            ],
            [
             0.4444444444444444,
             "#bd3786"
            ],
            [
             0.5555555555555556,
             "#d8576b"
            ],
            [
             0.6666666666666666,
             "#ed7953"
            ],
            [
             0.7777777777777778,
             "#fb9f3a"
            ],
            [
             0.8888888888888888,
             "#fdca26"
            ],
            [
             1,
             "#f0f921"
            ]
           ]
          },
          "colorway": [
           "#636efa",
           "#EF553B",
           "#00cc96",
           "#ab63fa",
           "#FFA15A",
           "#19d3f3",
           "#FF6692",
           "#B6E880",
           "#FF97FF",
           "#FECB52"
          ],
          "font": {
           "color": "#2a3f5f"
          },
          "geo": {
           "bgcolor": "white",
           "lakecolor": "white",
           "landcolor": "#E5ECF6",
           "showlakes": true,
           "showland": true,
           "subunitcolor": "white"
          },
          "hoverlabel": {
           "align": "left"
          },
          "hovermode": "closest",
          "mapbox": {
           "style": "light"
          },
          "paper_bgcolor": "white",
          "plot_bgcolor": "#E5ECF6",
          "polar": {
           "angularaxis": {
            "gridcolor": "white",
            "linecolor": "white",
            "ticks": ""
           },
           "bgcolor": "#E5ECF6",
           "radialaxis": {
            "gridcolor": "white",
            "linecolor": "white",
            "ticks": ""
           }
          },
          "scene": {
           "xaxis": {
            "backgroundcolor": "#E5ECF6",
            "gridcolor": "white",
            "gridwidth": 2,
            "linecolor": "white",
            "showbackground": true,
            "ticks": "",
            "zerolinecolor": "white"
           },
           "yaxis": {
            "backgroundcolor": "#E5ECF6",
            "gridcolor": "white",
            "gridwidth": 2,
            "linecolor": "white",
            "showbackground": true,
            "ticks": "",
            "zerolinecolor": "white"
           },
           "zaxis": {
            "backgroundcolor": "#E5ECF6",
            "gridcolor": "white",
            "gridwidth": 2,
            "linecolor": "white",
            "showbackground": true,
            "ticks": "",
            "zerolinecolor": "white"
           }
          },
          "shapedefaults": {
           "line": {
            "color": "#2a3f5f"
           }
          },
          "ternary": {
           "aaxis": {
            "gridcolor": "white",
            "linecolor": "white",
            "ticks": ""
           },
           "baxis": {
            "gridcolor": "white",
            "linecolor": "white",
            "ticks": ""
           },
           "bgcolor": "#E5ECF6",
           "caxis": {
            "gridcolor": "white",
            "linecolor": "white",
            "ticks": ""
           }
          },
          "title": {
           "x": 0.05
          },
          "xaxis": {
           "automargin": true,
           "gridcolor": "white",
           "linecolor": "white",
           "ticks": "",
           "title": {
            "standoff": 15
           },
           "zerolinecolor": "white",
           "zerolinewidth": 2
          },
          "yaxis": {
           "automargin": true,
           "gridcolor": "white",
           "linecolor": "white",
           "ticks": "",
           "title": {
            "standoff": 15
           },
           "zerolinecolor": "white",
           "zerolinewidth": 2
          }
         }
        },
        "width": 1400,
        "xaxis": {
         "anchor": "y",
         "domain": [
          0,
          1
         ],
         "title": {
          "text": ""
         }
        },
        "yaxis": {
         "anchor": "x",
         "domain": [
          0,
          1
         ],
         "title": {
          "text": "Number of Abstracts"
         }
        }
       }
      }
     },
     "metadata": {},
     "output_type": "display_data"
    }
   ],
   "source": [
    "\n",
    "fig = px.line(df_subset, x=\"year\", y=\"count\", color='smart_institution3',\n",
    "labels = dict(year='', count='Number of Abstracts', smart_institution2 = 'Institution'))\n",
    "fig.update_layout(width=1500, height=800)\n",
    "\n",
    "# fig.for_each_trace(lambda t: t.update(name = d[t.name]))\n",
    "\n",
    "fig.update_layout(\n",
    "    width=1400,\n",
    "    height=800,\n",
    "    font=dict(\n",
    "        family=\"Inter\",\n",
    "        size=16))\n",
    "\n",
    "fig.update_traces(line=dict(width=5))\n",
    "\n",
    "# fig.write_image('years.svg')\n",
    "\n",
    "fig.show()"
   ]
  },
  {
   "attachments": {},
   "cell_type": "markdown",
   "metadata": {},
   "source": [
    "### Year over Year Changes\n",
    "\n",
    "Here, we look at data from 2021 to 2023 and measure the difference in abstracts from year-to-year in order to measure the absolute and per cent YoY changes in abstract acceptance."
   ]
  },
  {
   "cell_type": "code",
   "execution_count": 34,
   "metadata": {},
   "outputs": [
    {
     "data": {
      "text/html": [
       "<div>\n",
       "<style scoped>\n",
       "    .dataframe tbody tr th:only-of-type {\n",
       "        vertical-align: middle;\n",
       "    }\n",
       "\n",
       "    .dataframe tbody tr th {\n",
       "        vertical-align: top;\n",
       "    }\n",
       "\n",
       "    .dataframe thead th {\n",
       "        text-align: right;\n",
       "    }\n",
       "</style>\n",
       "<table border=\"1\" class=\"dataframe\">\n",
       "  <thead>\n",
       "    <tr style=\"text-align: right;\">\n",
       "      <th></th>\n",
       "      <th>smart_institution3</th>\n",
       "      <th>year</th>\n",
       "      <th>count</th>\n",
       "      <th>prev_count</th>\n",
       "    </tr>\n",
       "  </thead>\n",
       "  <tbody>\n",
       "    <tr>\n",
       "      <th>0</th>\n",
       "      <td>A T Still University</td>\n",
       "      <td>2020</td>\n",
       "      <td>1</td>\n",
       "      <td>NaN</td>\n",
       "    </tr>\n",
       "    <tr>\n",
       "      <th>1</th>\n",
       "      <td>A T Still University</td>\n",
       "      <td>2021</td>\n",
       "      <td>1</td>\n",
       "      <td>1.0</td>\n",
       "    </tr>\n",
       "    <tr>\n",
       "      <th>2</th>\n",
       "      <td>Abilene Christian University</td>\n",
       "      <td>2019</td>\n",
       "      <td>1</td>\n",
       "      <td>NaN</td>\n",
       "    </tr>\n",
       "    <tr>\n",
       "      <th>3</th>\n",
       "      <td>Abington Jefferson Health</td>\n",
       "      <td>2017</td>\n",
       "      <td>1</td>\n",
       "      <td>NaN</td>\n",
       "    </tr>\n",
       "    <tr>\n",
       "      <th>4</th>\n",
       "      <td>Abington Jefferson Health</td>\n",
       "      <td>2018</td>\n",
       "      <td>2</td>\n",
       "      <td>1.0</td>\n",
       "    </tr>\n",
       "    <tr>\n",
       "      <th>...</th>\n",
       "      <td>...</td>\n",
       "      <td>...</td>\n",
       "      <td>...</td>\n",
       "      <td>...</td>\n",
       "    </tr>\n",
       "    <tr>\n",
       "      <th>2373</th>\n",
       "      <td>Yokohama City University Medical Center</td>\n",
       "      <td>2017</td>\n",
       "      <td>1</td>\n",
       "      <td>1.0</td>\n",
       "    </tr>\n",
       "    <tr>\n",
       "      <th>2374</th>\n",
       "      <td>Ysbyty Gwynedd Hospital</td>\n",
       "      <td>2020</td>\n",
       "      <td>1</td>\n",
       "      <td>NaN</td>\n",
       "    </tr>\n",
       "    <tr>\n",
       "      <th>2375</th>\n",
       "      <td>Zhongshan Hospital Fudan University</td>\n",
       "      <td>2017</td>\n",
       "      <td>2</td>\n",
       "      <td>NaN</td>\n",
       "    </tr>\n",
       "    <tr>\n",
       "      <th>2376</th>\n",
       "      <td>Zhongshan Hospital Fudan University</td>\n",
       "      <td>2018</td>\n",
       "      <td>1</td>\n",
       "      <td>2.0</td>\n",
       "    </tr>\n",
       "    <tr>\n",
       "      <th>2377</th>\n",
       "      <td>Zhongshan Hospital Fudan University</td>\n",
       "      <td>2019</td>\n",
       "      <td>1</td>\n",
       "      <td>1.0</td>\n",
       "    </tr>\n",
       "  </tbody>\n",
       "</table>\n",
       "<p>2378 rows × 4 columns</p>\n",
       "</div>"
      ],
      "text/plain": [
       "                           smart_institution3  year  count  prev_count\n",
       "0                        A T Still University  2020      1         NaN\n",
       "1                        A T Still University  2021      1         1.0\n",
       "2                Abilene Christian University  2019      1         NaN\n",
       "3                   Abington Jefferson Health  2017      1         NaN\n",
       "4                   Abington Jefferson Health  2018      2         1.0\n",
       "...                                       ...   ...    ...         ...\n",
       "2373  Yokohama City University Medical Center  2017      1         1.0\n",
       "2374                  Ysbyty Gwynedd Hospital  2020      1         NaN\n",
       "2375      Zhongshan Hospital Fudan University  2017      2         NaN\n",
       "2376      Zhongshan Hospital Fudan University  2018      1         2.0\n",
       "2377      Zhongshan Hospital Fudan University  2019      1         1.0\n",
       "\n",
       "[2378 rows x 4 columns]"
      ]
     },
     "execution_count": 34,
     "metadata": {},
     "output_type": "execute_result"
    }
   ],
   "source": [
    "# df_prev_value = df_institution_rank2.groupby(['smart_institution3', 'year'])['count'].shift(1)\n",
    "# df_prev_value\n",
    "\n",
    "df_changes = df_institution_year_rank\n",
    "\n",
    "\n",
    "df_changes['prev_count'] = df_changes['count'].shift().where(df_changes['smart_institution3'].eq(df_changes['smart_institution3'].shift()))\n",
    "df_changes\n"
   ]
  },
  {
   "cell_type": "code",
   "execution_count": 35,
   "metadata": {},
   "outputs": [
    {
     "name": "stderr",
     "output_type": "stream",
     "text": [
      "/var/folders/tc/rrbf67xd4h98qrpph8v1h9c00000gn/T/ipykernel_26514/1508240939.py:8: SettingWithCopyWarning:\n",
      "\n",
      "\n",
      "A value is trying to be set on a copy of a slice from a DataFrame\n",
      "\n",
      "See the caveats in the documentation: https://pandas.pydata.org/pandas-docs/stable/user_guide/indexing.html#returning-a-view-versus-a-copy\n",
      "\n"
     ]
    },
    {
     "data": {
      "application/vnd.plotly.v1+json": {
       "config": {
        "plotlyServerURL": "https://plot.ly"
       },
       "data": [
        {
         "alignmentgroup": "True",
         "hovertemplate": "=%{x}<br>Percent Change (YoY)=%{y}<extra></extra>",
         "legendgroup": "",
         "marker": {
          "color": "#636efa",
          "pattern": {
           "shape": ""
          }
         },
         "name": "",
         "offsetgroup": "",
         "orientation": "v",
         "showlegend": false,
         "textangle": 0,
         "textfont": {
          "size": 14
         },
         "textposition": "outside",
         "texttemplate": "%{y:.0f}%",
         "type": "bar",
         "x": [
          "Brigham And Women'S Hospital 2023",
          "Massachusetts General Hospital 2023",
          "Yale University School Of Medicine 2023",
          "Johns Hopkins University School Of Medicine 2023",
          "Medical College Of Wisconsin 2023",
          "Stanford University 2023",
          "Ohio State University 2023",
          "Indiana University School Of Medicine 2023",
          "University Of Florida 2022",
          "University Of Pittsburgh 2022",
          "Hospital Of The University Of Pennsylvania 2023",
          "Northwestern University 2023",
          "University Of Arizona 2023",
          "University Of Texas Southwestern Medical Center 2023",
          "University Of Wisconsin 2022",
          "University Of Colorado Denver 2022",
          "University Of Pittsburgh 2023",
          "University Of California - Los Angeles 2023",
          "University Of California - Los Angeles 2022",
          "University Of Colorado Denver 2023",
          "University Of Miami 2023",
          "University Of Michigan 2023",
          "University Of Arizona 2022",
          "University Of Michigan 2022",
          "University Of Florida 2023",
          "University Of Alabama At Birmingham 2023",
          "University Of Alabama At Birmingham 2022",
          "Stanford University 2022",
          "Indiana University School Of Medicine 2022",
          "Northwestern University 2022",
          "University Of Miami 2022",
          "University Of Texas Southwestern Medical Center 2022",
          "Ohio State University 2022",
          "University Of Wisconsin 2023",
          "Hospital Of The University Of Pennsylvania 2022",
          "Massachusetts General Hospital 2022",
          "Medical College Of Wisconsin 2022",
          "Yale University School Of Medicine 2022",
          "Brigham And Women'S Hospital 2022",
          "Johns Hopkins University School Of Medicine 2022"
         ],
         "xaxis": "x",
         "y": [
          500,
          400,
          275,
          250,
          200,
          115.38461538461537,
          109.09090909090908,
          100,
          100,
          100,
          94.44444444444444,
          86.66666666666667,
          76.92307692307693,
          61.53846153846154,
          46.15384615384615,
          41.66666666666667,
          38.88888888888889,
          37.03703703703704,
          35,
          29.411764705882355,
          26.666666666666668,
          18.181818181818183,
          18.181818181818183,
          12.82051282051282,
          10,
          7.352941176470589,
          0,
          0,
          0,
          0,
          -6.25,
          -7.142857142857142,
          -15.384615384615385,
          -21.052631578947366,
          -25,
          -36.36363636363637,
          -53.84615384615385,
          -55.55555555555556,
          -76.92307692307693,
          -80
         ],
         "yaxis": "y"
        }
       ],
       "layout": {
        "barmode": "relative",
        "font": {
         "family": "Inter",
         "size": 16
        },
        "height": 800,
        "legend": {
         "tracegroupgap": 0
        },
        "margin": {
         "t": 60
        },
        "template": {
         "data": {
          "bar": [
           {
            "error_x": {
             "color": "#2a3f5f"
            },
            "error_y": {
             "color": "#2a3f5f"
            },
            "marker": {
             "line": {
              "color": "#E5ECF6",
              "width": 0.5
             },
             "pattern": {
              "fillmode": "overlay",
              "size": 10,
              "solidity": 0.2
             }
            },
            "type": "bar"
           }
          ],
          "barpolar": [
           {
            "marker": {
             "line": {
              "color": "#E5ECF6",
              "width": 0.5
             },
             "pattern": {
              "fillmode": "overlay",
              "size": 10,
              "solidity": 0.2
             }
            },
            "type": "barpolar"
           }
          ],
          "carpet": [
           {
            "aaxis": {
             "endlinecolor": "#2a3f5f",
             "gridcolor": "white",
             "linecolor": "white",
             "minorgridcolor": "white",
             "startlinecolor": "#2a3f5f"
            },
            "baxis": {
             "endlinecolor": "#2a3f5f",
             "gridcolor": "white",
             "linecolor": "white",
             "minorgridcolor": "white",
             "startlinecolor": "#2a3f5f"
            },
            "type": "carpet"
           }
          ],
          "choropleth": [
           {
            "colorbar": {
             "outlinewidth": 0,
             "ticks": ""
            },
            "type": "choropleth"
           }
          ],
          "contour": [
           {
            "colorbar": {
             "outlinewidth": 0,
             "ticks": ""
            },
            "colorscale": [
             [
              0,
              "#0d0887"
             ],
             [
              0.1111111111111111,
              "#46039f"
             ],
             [
              0.2222222222222222,
              "#7201a8"
             ],
             [
              0.3333333333333333,
              "#9c179e"
             ],
             [
              0.4444444444444444,
              "#bd3786"
             ],
             [
              0.5555555555555556,
              "#d8576b"
             ],
             [
              0.6666666666666666,
              "#ed7953"
             ],
             [
              0.7777777777777778,
              "#fb9f3a"
             ],
             [
              0.8888888888888888,
              "#fdca26"
             ],
             [
              1,
              "#f0f921"
             ]
            ],
            "type": "contour"
           }
          ],
          "contourcarpet": [
           {
            "colorbar": {
             "outlinewidth": 0,
             "ticks": ""
            },
            "type": "contourcarpet"
           }
          ],
          "heatmap": [
           {
            "colorbar": {
             "outlinewidth": 0,
             "ticks": ""
            },
            "colorscale": [
             [
              0,
              "#0d0887"
             ],
             [
              0.1111111111111111,
              "#46039f"
             ],
             [
              0.2222222222222222,
              "#7201a8"
             ],
             [
              0.3333333333333333,
              "#9c179e"
             ],
             [
              0.4444444444444444,
              "#bd3786"
             ],
             [
              0.5555555555555556,
              "#d8576b"
             ],
             [
              0.6666666666666666,
              "#ed7953"
             ],
             [
              0.7777777777777778,
              "#fb9f3a"
             ],
             [
              0.8888888888888888,
              "#fdca26"
             ],
             [
              1,
              "#f0f921"
             ]
            ],
            "type": "heatmap"
           }
          ],
          "heatmapgl": [
           {
            "colorbar": {
             "outlinewidth": 0,
             "ticks": ""
            },
            "colorscale": [
             [
              0,
              "#0d0887"
             ],
             [
              0.1111111111111111,
              "#46039f"
             ],
             [
              0.2222222222222222,
              "#7201a8"
             ],
             [
              0.3333333333333333,
              "#9c179e"
             ],
             [
              0.4444444444444444,
              "#bd3786"
             ],
             [
              0.5555555555555556,
              "#d8576b"
             ],
             [
              0.6666666666666666,
              "#ed7953"
             ],
             [
              0.7777777777777778,
              "#fb9f3a"
             ],
             [
              0.8888888888888888,
              "#fdca26"
             ],
             [
              1,
              "#f0f921"
             ]
            ],
            "type": "heatmapgl"
           }
          ],
          "histogram": [
           {
            "marker": {
             "pattern": {
              "fillmode": "overlay",
              "size": 10,
              "solidity": 0.2
             }
            },
            "type": "histogram"
           }
          ],
          "histogram2d": [
           {
            "colorbar": {
             "outlinewidth": 0,
             "ticks": ""
            },
            "colorscale": [
             [
              0,
              "#0d0887"
             ],
             [
              0.1111111111111111,
              "#46039f"
             ],
             [
              0.2222222222222222,
              "#7201a8"
             ],
             [
              0.3333333333333333,
              "#9c179e"
             ],
             [
              0.4444444444444444,
              "#bd3786"
             ],
             [
              0.5555555555555556,
              "#d8576b"
             ],
             [
              0.6666666666666666,
              "#ed7953"
             ],
             [
              0.7777777777777778,
              "#fb9f3a"
             ],
             [
              0.8888888888888888,
              "#fdca26"
             ],
             [
              1,
              "#f0f921"
             ]
            ],
            "type": "histogram2d"
           }
          ],
          "histogram2dcontour": [
           {
            "colorbar": {
             "outlinewidth": 0,
             "ticks": ""
            },
            "colorscale": [
             [
              0,
              "#0d0887"
             ],
             [
              0.1111111111111111,
              "#46039f"
             ],
             [
              0.2222222222222222,
              "#7201a8"
             ],
             [
              0.3333333333333333,
              "#9c179e"
             ],
             [
              0.4444444444444444,
              "#bd3786"
             ],
             [
              0.5555555555555556,
              "#d8576b"
             ],
             [
              0.6666666666666666,
              "#ed7953"
             ],
             [
              0.7777777777777778,
              "#fb9f3a"
             ],
             [
              0.8888888888888888,
              "#fdca26"
             ],
             [
              1,
              "#f0f921"
             ]
            ],
            "type": "histogram2dcontour"
           }
          ],
          "mesh3d": [
           {
            "colorbar": {
             "outlinewidth": 0,
             "ticks": ""
            },
            "type": "mesh3d"
           }
          ],
          "parcoords": [
           {
            "line": {
             "colorbar": {
              "outlinewidth": 0,
              "ticks": ""
             }
            },
            "type": "parcoords"
           }
          ],
          "pie": [
           {
            "automargin": true,
            "type": "pie"
           }
          ],
          "scatter": [
           {
            "fillpattern": {
             "fillmode": "overlay",
             "size": 10,
             "solidity": 0.2
            },
            "type": "scatter"
           }
          ],
          "scatter3d": [
           {
            "line": {
             "colorbar": {
              "outlinewidth": 0,
              "ticks": ""
             }
            },
            "marker": {
             "colorbar": {
              "outlinewidth": 0,
              "ticks": ""
             }
            },
            "type": "scatter3d"
           }
          ],
          "scattercarpet": [
           {
            "marker": {
             "colorbar": {
              "outlinewidth": 0,
              "ticks": ""
             }
            },
            "type": "scattercarpet"
           }
          ],
          "scattergeo": [
           {
            "marker": {
             "colorbar": {
              "outlinewidth": 0,
              "ticks": ""
             }
            },
            "type": "scattergeo"
           }
          ],
          "scattergl": [
           {
            "marker": {
             "colorbar": {
              "outlinewidth": 0,
              "ticks": ""
             }
            },
            "type": "scattergl"
           }
          ],
          "scattermapbox": [
           {
            "marker": {
             "colorbar": {
              "outlinewidth": 0,
              "ticks": ""
             }
            },
            "type": "scattermapbox"
           }
          ],
          "scatterpolar": [
           {
            "marker": {
             "colorbar": {
              "outlinewidth": 0,
              "ticks": ""
             }
            },
            "type": "scatterpolar"
           }
          ],
          "scatterpolargl": [
           {
            "marker": {
             "colorbar": {
              "outlinewidth": 0,
              "ticks": ""
             }
            },
            "type": "scatterpolargl"
           }
          ],
          "scatterternary": [
           {
            "marker": {
             "colorbar": {
              "outlinewidth": 0,
              "ticks": ""
             }
            },
            "type": "scatterternary"
           }
          ],
          "surface": [
           {
            "colorbar": {
             "outlinewidth": 0,
             "ticks": ""
            },
            "colorscale": [
             [
              0,
              "#0d0887"
             ],
             [
              0.1111111111111111,
              "#46039f"
             ],
             [
              0.2222222222222222,
              "#7201a8"
             ],
             [
              0.3333333333333333,
              "#9c179e"
             ],
             [
              0.4444444444444444,
              "#bd3786"
             ],
             [
              0.5555555555555556,
              "#d8576b"
             ],
             [
              0.6666666666666666,
              "#ed7953"
             ],
             [
              0.7777777777777778,
              "#fb9f3a"
             ],
             [
              0.8888888888888888,
              "#fdca26"
             ],
             [
              1,
              "#f0f921"
             ]
            ],
            "type": "surface"
           }
          ],
          "table": [
           {
            "cells": {
             "fill": {
              "color": "#EBF0F8"
             },
             "line": {
              "color": "white"
             }
            },
            "header": {
             "fill": {
              "color": "#C8D4E3"
             },
             "line": {
              "color": "white"
             }
            },
            "type": "table"
           }
          ]
         },
         "layout": {
          "annotationdefaults": {
           "arrowcolor": "#2a3f5f",
           "arrowhead": 0,
           "arrowwidth": 1
          },
          "autotypenumbers": "strict",
          "coloraxis": {
           "colorbar": {
            "outlinewidth": 0,
            "ticks": ""
           }
          },
          "colorscale": {
           "diverging": [
            [
             0,
             "#8e0152"
            ],
            [
             0.1,
             "#c51b7d"
            ],
            [
             0.2,
             "#de77ae"
            ],
            [
             0.3,
             "#f1b6da"
            ],
            [
             0.4,
             "#fde0ef"
            ],
            [
             0.5,
             "#f7f7f7"
            ],
            [
             0.6,
             "#e6f5d0"
            ],
            [
             0.7,
             "#b8e186"
            ],
            [
             0.8,
             "#7fbc41"
            ],
            [
             0.9,
             "#4d9221"
            ],
            [
             1,
             "#276419"
            ]
           ],
           "sequential": [
            [
             0,
             "#0d0887"
            ],
            [
             0.1111111111111111,
             "#46039f"
            ],
            [
             0.2222222222222222,
             "#7201a8"
            ],
            [
             0.3333333333333333,
             "#9c179e"
            ],
            [
             0.4444444444444444,
             "#bd3786"
            ],
            [
             0.5555555555555556,
             "#d8576b"
            ],
            [
             0.6666666666666666,
             "#ed7953"
            ],
            [
             0.7777777777777778,
             "#fb9f3a"
            ],
            [
             0.8888888888888888,
             "#fdca26"
            ],
            [
             1,
             "#f0f921"
            ]
           ],
           "sequentialminus": [
            [
             0,
             "#0d0887"
            ],
            [
             0.1111111111111111,
             "#46039f"
            ],
            [
             0.2222222222222222,
             "#7201a8"
            ],
            [
             0.3333333333333333,
             "#9c179e"
            ],
            [
             0.4444444444444444,
             "#bd3786"
            ],
            [
             0.5555555555555556,
             "#d8576b"
            ],
            [
             0.6666666666666666,
             "#ed7953"
            ],
            [
             0.7777777777777778,
             "#fb9f3a"
            ],
            [
             0.8888888888888888,
             "#fdca26"
            ],
            [
             1,
             "#f0f921"
            ]
           ]
          },
          "colorway": [
           "#636efa",
           "#EF553B",
           "#00cc96",
           "#ab63fa",
           "#FFA15A",
           "#19d3f3",
           "#FF6692",
           "#B6E880",
           "#FF97FF",
           "#FECB52"
          ],
          "font": {
           "color": "#2a3f5f"
          },
          "geo": {
           "bgcolor": "white",
           "lakecolor": "white",
           "landcolor": "#E5ECF6",
           "showlakes": true,
           "showland": true,
           "subunitcolor": "white"
          },
          "hoverlabel": {
           "align": "left"
          },
          "hovermode": "closest",
          "mapbox": {
           "style": "light"
          },
          "paper_bgcolor": "white",
          "plot_bgcolor": "#E5ECF6",
          "polar": {
           "angularaxis": {
            "gridcolor": "white",
            "linecolor": "white",
            "ticks": ""
           },
           "bgcolor": "#E5ECF6",
           "radialaxis": {
            "gridcolor": "white",
            "linecolor": "white",
            "ticks": ""
           }
          },
          "scene": {
           "xaxis": {
            "backgroundcolor": "#E5ECF6",
            "gridcolor": "white",
            "gridwidth": 2,
            "linecolor": "white",
            "showbackground": true,
            "ticks": "",
            "zerolinecolor": "white"
           },
           "yaxis": {
            "backgroundcolor": "#E5ECF6",
            "gridcolor": "white",
            "gridwidth": 2,
            "linecolor": "white",
            "showbackground": true,
            "ticks": "",
            "zerolinecolor": "white"
           },
           "zaxis": {
            "backgroundcolor": "#E5ECF6",
            "gridcolor": "white",
            "gridwidth": 2,
            "linecolor": "white",
            "showbackground": true,
            "ticks": "",
            "zerolinecolor": "white"
           }
          },
          "shapedefaults": {
           "line": {
            "color": "#2a3f5f"
           }
          },
          "ternary": {
           "aaxis": {
            "gridcolor": "white",
            "linecolor": "white",
            "ticks": ""
           },
           "baxis": {
            "gridcolor": "white",
            "linecolor": "white",
            "ticks": ""
           },
           "bgcolor": "#E5ECF6",
           "caxis": {
            "gridcolor": "white",
            "linecolor": "white",
            "ticks": ""
           }
          },
          "title": {
           "x": 0.05
          },
          "xaxis": {
           "automargin": true,
           "gridcolor": "white",
           "linecolor": "white",
           "ticks": "",
           "title": {
            "standoff": 15
           },
           "zerolinecolor": "white",
           "zerolinewidth": 2
          },
          "yaxis": {
           "automargin": true,
           "gridcolor": "white",
           "linecolor": "white",
           "ticks": "",
           "title": {
            "standoff": 15
           },
           "zerolinecolor": "white",
           "zerolinewidth": 2
          }
         }
        },
        "width": 1400,
        "xaxis": {
         "anchor": "y",
         "domain": [
          0,
          1
         ],
         "title": {
          "text": ""
         }
        },
        "yaxis": {
         "anchor": "x",
         "domain": [
          0,
          1
         ],
         "range": [
          -150,
          550
         ],
         "title": {
          "text": "Percent Change (YoY)"
         }
        }
       }
      }
     },
     "metadata": {},
     "output_type": "display_data"
    }
   ],
   "source": [
    "\n",
    "\n",
    "df_changes['abs_change'] = df_changes['count']-df_changes['prev_count']\n",
    "df_changes['percent_change'] = (df_changes['count']-df_changes['prev_count'])/df_changes['prev_count']*100\n",
    "df_changes['inst_year'] = df_changes.apply(lambda x: ' '.join([x['smart_institution3'], str(x['year'])]), axis=1)\n",
    "\n",
    "df_changes = df_changes[~df_changes['abs_change'].isna()]\n",
    "df_changes\n",
    "\n",
    "df_changes.sort_values(by='percent_change', ascending=False, inplace=True)\n",
    "\n",
    "df_changes_subset = df_changes[(df_changes['year']>2021) &\n",
    "                               (df_changes['smart_institution3'].isin(institution_subset))]\n",
    "\n",
    "fig = px.bar(df_changes_subset, x='inst_year', y='percent_change', text_auto='',\n",
    "labels = dict(inst_year= '', percent_change='Percent Change (YoY)'))\n",
    "\n",
    "fig.update_yaxes(range=[-150, 550])\n",
    "fig.update_traces(textfont_size=14, textangle=0, texttemplate='%{y:.0f}%', textposition='outside')\n",
    "\n",
    "\n",
    "fig.update_layout(\n",
    "    width=1400,\n",
    "    height=800,\n",
    "    font=dict(\n",
    "        family=\"Inter\",\n",
    "        size=16))\n",
    "\n",
    "\n",
    "# fig.write_image('pct_change.svg')\n",
    "        \n",
    "fig.show()\n",
    "\n"
   ]
  },
  {
   "cell_type": "code",
   "execution_count": 36,
   "metadata": {},
   "outputs": [
    {
     "name": "stderr",
     "output_type": "stream",
     "text": [
      "/var/folders/tc/rrbf67xd4h98qrpph8v1h9c00000gn/T/ipykernel_26514/1516652568.py:1: SettingWithCopyWarning:\n",
      "\n",
      "\n",
      "A value is trying to be set on a copy of a slice from a DataFrame\n",
      "\n",
      "See the caveats in the documentation: https://pandas.pydata.org/pandas-docs/stable/user_guide/indexing.html#returning-a-view-versus-a-copy\n",
      "\n"
     ]
    },
    {
     "data": {
      "application/vnd.plotly.v1+json": {
       "config": {
        "plotlyServerURL": "https://plot.ly"
       },
       "data": [
        {
         "alignmentgroup": "True",
         "hovertemplate": "=%{x}<br>Absolute Change (YoY)=%{y}<extra></extra>",
         "legendgroup": "",
         "marker": {
          "color": "#636efa",
          "pattern": {
           "shape": ""
          }
         },
         "name": "",
         "offsetgroup": "",
         "orientation": "v",
         "showlegend": false,
         "textangle": 0,
         "textfont": {
          "size": 16
         },
         "textposition": "outside",
         "texttemplate": "%{y:.0f}",
         "type": "bar",
         "x": [
          "Massachusetts General Hospital 2023",
          "Hospital Of The University Of Pennsylvania 2023",
          "Brigham And Women'S Hospital 2023",
          "Stanford University 2023",
          "Northwestern University 2023",
          "Medical College Of Wisconsin 2023",
          "Ohio State University 2023",
          "Indiana University School Of Medicine 2023",
          "Yale University School Of Medicine 2023",
          "University Of Florida 2022",
          "Johns Hopkins University School Of Medicine 2023",
          "University Of Arizona 2023",
          "University Of California - Los Angeles 2023",
          "University Of Pittsburgh 2022",
          "University Of Michigan 2023",
          "University Of Texas Southwestern Medical Center 2023",
          "University Of California - Los Angeles 2022",
          "University Of Pittsburgh 2023",
          "University Of Wisconsin 2022",
          "University Of Colorado Denver 2023",
          "University Of Colorado Denver 2022",
          "University Of Michigan 2022",
          "University Of Alabama At Birmingham 2023",
          "University Of Miami 2023",
          "University Of Florida 2023",
          "University Of Arizona 2022",
          "University Of Alabama At Birmingham 2022",
          "Stanford University 2022",
          "Indiana University School Of Medicine 2022",
          "Northwestern University 2022",
          "University Of Miami 2022",
          "University Of Texas Southwestern Medical Center 2022",
          "Ohio State University 2022",
          "University Of Wisconsin 2023",
          "Massachusetts General Hospital 2022",
          "Yale University School Of Medicine 2022",
          "Hospital Of The University Of Pennsylvania 2022",
          "Medical College Of Wisconsin 2022",
          "Brigham And Women'S Hospital 2022",
          "Johns Hopkins University School Of Medicine 2022"
         ],
         "xaxis": "x",
         "y": [
          28,
          17,
          15,
          15,
          13,
          12,
          12,
          11,
          11,
          10,
          10,
          10,
          10,
          9,
          8,
          8,
          7,
          7,
          6,
          5,
          5,
          5,
          5,
          4,
          2,
          2,
          0,
          0,
          0,
          0,
          -1,
          -1,
          -2,
          -4,
          -4,
          -5,
          -6,
          -7,
          -10,
          -16
         ],
         "yaxis": "y"
        }
       ],
       "layout": {
        "barmode": "relative",
        "font": {
         "family": "Inter",
         "size": 16
        },
        "height": 800,
        "legend": {
         "tracegroupgap": 0
        },
        "margin": {
         "t": 60
        },
        "template": {
         "data": {
          "bar": [
           {
            "error_x": {
             "color": "#2a3f5f"
            },
            "error_y": {
             "color": "#2a3f5f"
            },
            "marker": {
             "line": {
              "color": "#E5ECF6",
              "width": 0.5
             },
             "pattern": {
              "fillmode": "overlay",
              "size": 10,
              "solidity": 0.2
             }
            },
            "type": "bar"
           }
          ],
          "barpolar": [
           {
            "marker": {
             "line": {
              "color": "#E5ECF6",
              "width": 0.5
             },
             "pattern": {
              "fillmode": "overlay",
              "size": 10,
              "solidity": 0.2
             }
            },
            "type": "barpolar"
           }
          ],
          "carpet": [
           {
            "aaxis": {
             "endlinecolor": "#2a3f5f",
             "gridcolor": "white",
             "linecolor": "white",
             "minorgridcolor": "white",
             "startlinecolor": "#2a3f5f"
            },
            "baxis": {
             "endlinecolor": "#2a3f5f",
             "gridcolor": "white",
             "linecolor": "white",
             "minorgridcolor": "white",
             "startlinecolor": "#2a3f5f"
            },
            "type": "carpet"
           }
          ],
          "choropleth": [
           {
            "colorbar": {
             "outlinewidth": 0,
             "ticks": ""
            },
            "type": "choropleth"
           }
          ],
          "contour": [
           {
            "colorbar": {
             "outlinewidth": 0,
             "ticks": ""
            },
            "colorscale": [
             [
              0,
              "#0d0887"
             ],
             [
              0.1111111111111111,
              "#46039f"
             ],
             [
              0.2222222222222222,
              "#7201a8"
             ],
             [
              0.3333333333333333,
              "#9c179e"
             ],
             [
              0.4444444444444444,
              "#bd3786"
             ],
             [
              0.5555555555555556,
              "#d8576b"
             ],
             [
              0.6666666666666666,
              "#ed7953"
             ],
             [
              0.7777777777777778,
              "#fb9f3a"
             ],
             [
              0.8888888888888888,
              "#fdca26"
             ],
             [
              1,
              "#f0f921"
             ]
            ],
            "type": "contour"
           }
          ],
          "contourcarpet": [
           {
            "colorbar": {
             "outlinewidth": 0,
             "ticks": ""
            },
            "type": "contourcarpet"
           }
          ],
          "heatmap": [
           {
            "colorbar": {
             "outlinewidth": 0,
             "ticks": ""
            },
            "colorscale": [
             [
              0,
              "#0d0887"
             ],
             [
              0.1111111111111111,
              "#46039f"
             ],
             [
              0.2222222222222222,
              "#7201a8"
             ],
             [
              0.3333333333333333,
              "#9c179e"
             ],
             [
              0.4444444444444444,
              "#bd3786"
             ],
             [
              0.5555555555555556,
              "#d8576b"
             ],
             [
              0.6666666666666666,
              "#ed7953"
             ],
             [
              0.7777777777777778,
              "#fb9f3a"
             ],
             [
              0.8888888888888888,
              "#fdca26"
             ],
             [
              1,
              "#f0f921"
             ]
            ],
            "type": "heatmap"
           }
          ],
          "heatmapgl": [
           {
            "colorbar": {
             "outlinewidth": 0,
             "ticks": ""
            },
            "colorscale": [
             [
              0,
              "#0d0887"
             ],
             [
              0.1111111111111111,
              "#46039f"
             ],
             [
              0.2222222222222222,
              "#7201a8"
             ],
             [
              0.3333333333333333,
              "#9c179e"
             ],
             [
              0.4444444444444444,
              "#bd3786"
             ],
             [
              0.5555555555555556,
              "#d8576b"
             ],
             [
              0.6666666666666666,
              "#ed7953"
             ],
             [
              0.7777777777777778,
              "#fb9f3a"
             ],
             [
              0.8888888888888888,
              "#fdca26"
             ],
             [
              1,
              "#f0f921"
             ]
            ],
            "type": "heatmapgl"
           }
          ],
          "histogram": [
           {
            "marker": {
             "pattern": {
              "fillmode": "overlay",
              "size": 10,
              "solidity": 0.2
             }
            },
            "type": "histogram"
           }
          ],
          "histogram2d": [
           {
            "colorbar": {
             "outlinewidth": 0,
             "ticks": ""
            },
            "colorscale": [
             [
              0,
              "#0d0887"
             ],
             [
              0.1111111111111111,
              "#46039f"
             ],
             [
              0.2222222222222222,
              "#7201a8"
             ],
             [
              0.3333333333333333,
              "#9c179e"
             ],
             [
              0.4444444444444444,
              "#bd3786"
             ],
             [
              0.5555555555555556,
              "#d8576b"
             ],
             [
              0.6666666666666666,
              "#ed7953"
             ],
             [
              0.7777777777777778,
              "#fb9f3a"
             ],
             [
              0.8888888888888888,
              "#fdca26"
             ],
             [
              1,
              "#f0f921"
             ]
            ],
            "type": "histogram2d"
           }
          ],
          "histogram2dcontour": [
           {
            "colorbar": {
             "outlinewidth": 0,
             "ticks": ""
            },
            "colorscale": [
             [
              0,
              "#0d0887"
             ],
             [
              0.1111111111111111,
              "#46039f"
             ],
             [
              0.2222222222222222,
              "#7201a8"
             ],
             [
              0.3333333333333333,
              "#9c179e"
             ],
             [
              0.4444444444444444,
              "#bd3786"
             ],
             [
              0.5555555555555556,
              "#d8576b"
             ],
             [
              0.6666666666666666,
              "#ed7953"
             ],
             [
              0.7777777777777778,
              "#fb9f3a"
             ],
             [
              0.8888888888888888,
              "#fdca26"
             ],
             [
              1,
              "#f0f921"
             ]
            ],
            "type": "histogram2dcontour"
           }
          ],
          "mesh3d": [
           {
            "colorbar": {
             "outlinewidth": 0,
             "ticks": ""
            },
            "type": "mesh3d"
           }
          ],
          "parcoords": [
           {
            "line": {
             "colorbar": {
              "outlinewidth": 0,
              "ticks": ""
             }
            },
            "type": "parcoords"
           }
          ],
          "pie": [
           {
            "automargin": true,
            "type": "pie"
           }
          ],
          "scatter": [
           {
            "fillpattern": {
             "fillmode": "overlay",
             "size": 10,
             "solidity": 0.2
            },
            "type": "scatter"
           }
          ],
          "scatter3d": [
           {
            "line": {
             "colorbar": {
              "outlinewidth": 0,
              "ticks": ""
             }
            },
            "marker": {
             "colorbar": {
              "outlinewidth": 0,
              "ticks": ""
             }
            },
            "type": "scatter3d"
           }
          ],
          "scattercarpet": [
           {
            "marker": {
             "colorbar": {
              "outlinewidth": 0,
              "ticks": ""
             }
            },
            "type": "scattercarpet"
           }
          ],
          "scattergeo": [
           {
            "marker": {
             "colorbar": {
              "outlinewidth": 0,
              "ticks": ""
             }
            },
            "type": "scattergeo"
           }
          ],
          "scattergl": [
           {
            "marker": {
             "colorbar": {
              "outlinewidth": 0,
              "ticks": ""
             }
            },
            "type": "scattergl"
           }
          ],
          "scattermapbox": [
           {
            "marker": {
             "colorbar": {
              "outlinewidth": 0,
              "ticks": ""
             }
            },
            "type": "scattermapbox"
           }
          ],
          "scatterpolar": [
           {
            "marker": {
             "colorbar": {
              "outlinewidth": 0,
              "ticks": ""
             }
            },
            "type": "scatterpolar"
           }
          ],
          "scatterpolargl": [
           {
            "marker": {
             "colorbar": {
              "outlinewidth": 0,
              "ticks": ""
             }
            },
            "type": "scatterpolargl"
           }
          ],
          "scatterternary": [
           {
            "marker": {
             "colorbar": {
              "outlinewidth": 0,
              "ticks": ""
             }
            },
            "type": "scatterternary"
           }
          ],
          "surface": [
           {
            "colorbar": {
             "outlinewidth": 0,
             "ticks": ""
            },
            "colorscale": [
             [
              0,
              "#0d0887"
             ],
             [
              0.1111111111111111,
              "#46039f"
             ],
             [
              0.2222222222222222,
              "#7201a8"
             ],
             [
              0.3333333333333333,
              "#9c179e"
             ],
             [
              0.4444444444444444,
              "#bd3786"
             ],
             [
              0.5555555555555556,
              "#d8576b"
             ],
             [
              0.6666666666666666,
              "#ed7953"
             ],
             [
              0.7777777777777778,
              "#fb9f3a"
             ],
             [
              0.8888888888888888,
              "#fdca26"
             ],
             [
              1,
              "#f0f921"
             ]
            ],
            "type": "surface"
           }
          ],
          "table": [
           {
            "cells": {
             "fill": {
              "color": "#EBF0F8"
             },
             "line": {
              "color": "white"
             }
            },
            "header": {
             "fill": {
              "color": "#C8D4E3"
             },
             "line": {
              "color": "white"
             }
            },
            "type": "table"
           }
          ]
         },
         "layout": {
          "annotationdefaults": {
           "arrowcolor": "#2a3f5f",
           "arrowhead": 0,
           "arrowwidth": 1
          },
          "autotypenumbers": "strict",
          "coloraxis": {
           "colorbar": {
            "outlinewidth": 0,
            "ticks": ""
           }
          },
          "colorscale": {
           "diverging": [
            [
             0,
             "#8e0152"
            ],
            [
             0.1,
             "#c51b7d"
            ],
            [
             0.2,
             "#de77ae"
            ],
            [
             0.3,
             "#f1b6da"
            ],
            [
             0.4,
             "#fde0ef"
            ],
            [
             0.5,
             "#f7f7f7"
            ],
            [
             0.6,
             "#e6f5d0"
            ],
            [
             0.7,
             "#b8e186"
            ],
            [
             0.8,
             "#7fbc41"
            ],
            [
             0.9,
             "#4d9221"
            ],
            [
             1,
             "#276419"
            ]
           ],
           "sequential": [
            [
             0,
             "#0d0887"
            ],
            [
             0.1111111111111111,
             "#46039f"
            ],
            [
             0.2222222222222222,
             "#7201a8"
            ],
            [
             0.3333333333333333,
             "#9c179e"
            ],
            [
             0.4444444444444444,
             "#bd3786"
            ],
            [
             0.5555555555555556,
             "#d8576b"
            ],
            [
             0.6666666666666666,
             "#ed7953"
            ],
            [
             0.7777777777777778,
             "#fb9f3a"
            ],
            [
             0.8888888888888888,
             "#fdca26"
            ],
            [
             1,
             "#f0f921"
            ]
           ],
           "sequentialminus": [
            [
             0,
             "#0d0887"
            ],
            [
             0.1111111111111111,
             "#46039f"
            ],
            [
             0.2222222222222222,
             "#7201a8"
            ],
            [
             0.3333333333333333,
             "#9c179e"
            ],
            [
             0.4444444444444444,
             "#bd3786"
            ],
            [
             0.5555555555555556,
             "#d8576b"
            ],
            [
             0.6666666666666666,
             "#ed7953"
            ],
            [
             0.7777777777777778,
             "#fb9f3a"
            ],
            [
             0.8888888888888888,
             "#fdca26"
            ],
            [
             1,
             "#f0f921"
            ]
           ]
          },
          "colorway": [
           "#636efa",
           "#EF553B",
           "#00cc96",
           "#ab63fa",
           "#FFA15A",
           "#19d3f3",
           "#FF6692",
           "#B6E880",
           "#FF97FF",
           "#FECB52"
          ],
          "font": {
           "color": "#2a3f5f"
          },
          "geo": {
           "bgcolor": "white",
           "lakecolor": "white",
           "landcolor": "#E5ECF6",
           "showlakes": true,
           "showland": true,
           "subunitcolor": "white"
          },
          "hoverlabel": {
           "align": "left"
          },
          "hovermode": "closest",
          "mapbox": {
           "style": "light"
          },
          "paper_bgcolor": "white",
          "plot_bgcolor": "#E5ECF6",
          "polar": {
           "angularaxis": {
            "gridcolor": "white",
            "linecolor": "white",
            "ticks": ""
           },
           "bgcolor": "#E5ECF6",
           "radialaxis": {
            "gridcolor": "white",
            "linecolor": "white",
            "ticks": ""
           }
          },
          "scene": {
           "xaxis": {
            "backgroundcolor": "#E5ECF6",
            "gridcolor": "white",
            "gridwidth": 2,
            "linecolor": "white",
            "showbackground": true,
            "ticks": "",
            "zerolinecolor": "white"
           },
           "yaxis": {
            "backgroundcolor": "#E5ECF6",
            "gridcolor": "white",
            "gridwidth": 2,
            "linecolor": "white",
            "showbackground": true,
            "ticks": "",
            "zerolinecolor": "white"
           },
           "zaxis": {
            "backgroundcolor": "#E5ECF6",
            "gridcolor": "white",
            "gridwidth": 2,
            "linecolor": "white",
            "showbackground": true,
            "ticks": "",
            "zerolinecolor": "white"
           }
          },
          "shapedefaults": {
           "line": {
            "color": "#2a3f5f"
           }
          },
          "ternary": {
           "aaxis": {
            "gridcolor": "white",
            "linecolor": "white",
            "ticks": ""
           },
           "baxis": {
            "gridcolor": "white",
            "linecolor": "white",
            "ticks": ""
           },
           "bgcolor": "#E5ECF6",
           "caxis": {
            "gridcolor": "white",
            "linecolor": "white",
            "ticks": ""
           }
          },
          "title": {
           "x": 0.05
          },
          "xaxis": {
           "automargin": true,
           "gridcolor": "white",
           "linecolor": "white",
           "ticks": "",
           "title": {
            "standoff": 15
           },
           "zerolinecolor": "white",
           "zerolinewidth": 2
          },
          "yaxis": {
           "automargin": true,
           "gridcolor": "white",
           "linecolor": "white",
           "ticks": "",
           "title": {
            "standoff": 15
           },
           "zerolinecolor": "white",
           "zerolinewidth": 2
          }
         }
        },
        "width": 1400,
        "xaxis": {
         "anchor": "y",
         "domain": [
          0,
          1
         ],
         "title": {
          "text": ""
         }
        },
        "yaxis": {
         "anchor": "x",
         "domain": [
          0,
          1
         ],
         "range": [
          -25,
          35
         ],
         "title": {
          "text": "Absolute Change (YoY)"
         }
        }
       }
      }
     },
     "metadata": {},
     "output_type": "display_data"
    }
   ],
   "source": [
    "df_changes_subset.sort_values(by='abs_change', ascending=False, inplace=True)\n",
    "\n",
    "fig = px.bar(df_changes_subset, x='inst_year', y='abs_change', text_auto='',\n",
    "labels = dict(inst_year= '', abs_change='Absolute Change (YoY)'))\n",
    "\n",
    "# fig.update_layout(width=1200, height=1200)\n",
    "\n",
    "fig.update_traces(textfont_size=16, textangle=0, texttemplate='%{y:.0f}', textposition='outside')\n",
    "\n",
    "\n",
    "fig.update_yaxes(range=[-25, 35])\n",
    "\n",
    "fig.update_layout(\n",
    "    width=1400,\n",
    "    height=800,\n",
    "    font=dict(\n",
    "        family=\"Inter\",\n",
    "        size=16))\n",
    "fig.show()\n",
    "\n",
    "# fig.write_image('abs_change.svg')"
   ]
  }
 ],
 "metadata": {
  "kernelspec": {
   "display_name": "Python 3",
   "language": "python",
   "name": "python3"
  },
  "language_info": {
   "codemirror_mode": {
    "name": "ipython",
    "version": 3
   },
   "file_extension": ".py",
   "mimetype": "text/x-python",
   "name": "python",
   "nbconvert_exporter": "python",
   "pygments_lexer": "ipython3",
   "version": "3.10.5"
  },
  "orig_nbformat": 4,
  "vscode": {
   "interpreter": {
    "hash": "aee8b7b246df8f9039afb4144a1f6fd8d2ca17a180786b69acc140d282b71a49"
   }
  }
 },
 "nbformat": 4,
 "nbformat_minor": 2
}
