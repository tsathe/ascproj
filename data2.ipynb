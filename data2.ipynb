{
 "cells": [
  {
   "cell_type": "code",
   "execution_count": 9,
   "metadata": {},
   "outputs": [],
   "source": [
    "import pandas as pd"
   ]
  },
  {
   "cell_type": "code",
   "execution_count": 14,
   "metadata": {},
   "outputs": [
    {
     "name": "stderr",
     "output_type": "stream",
     "text": [
      "/var/folders/tc/rrbf67xd4h98qrpph8v1h9c00000gn/T/ipykernel_27267/2105323876.py:11: FutureWarning: The default value of regex will change from True to False in a future version.\n",
      "  df['new'] = df['smart_institution2'].str.replace(pat, '')\n"
     ]
    }
   ],
   "source": [
    "df = pd.read_csv('institutions.csv')\n",
    "df['smart_institution2'] = df['smart_institution2'].str.lower()\n",
    "\n",
    "remove_words = ['university', 'hospital', 'of', 'school', 'medicine', 'surgery', 'at', 'medical', 'the', 'center']\n",
    "\n",
    "\n",
    "pat = r'\\b(?:{})\\b'.format('|'.join(remove_words))\n",
    "\n",
    "pat\n",
    "\n",
    "df['new'] = df['smart_institution2'].str.replace(pat, '')\n",
    "\n",
    "df.to_csv('test2.csv')"
   ]
  },
  {
   "cell_type": "code",
   "execution_count": null,
   "metadata": {},
   "outputs": [],
   "source": []
  }
 ],
 "metadata": {
  "kernelspec": {
   "display_name": "Python 3",
   "language": "python",
   "name": "python3"
  },
  "language_info": {
   "codemirror_mode": {
    "name": "ipython",
    "version": 3
   },
   "file_extension": ".py",
   "mimetype": "text/x-python",
   "name": "python",
   "nbconvert_exporter": "python",
   "pygments_lexer": "ipython3",
   "version": "3.10.5"
  },
  "orig_nbformat": 4
 },
 "nbformat": 4,
 "nbformat_minor": 2
}
